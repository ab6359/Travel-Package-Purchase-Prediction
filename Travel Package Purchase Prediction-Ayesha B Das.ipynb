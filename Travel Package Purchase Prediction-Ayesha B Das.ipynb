{
 "cells": [
  {
   "cell_type": "markdown",
   "metadata": {},
   "source": [
    "# Travel Package Purchase Prediction"
   ]
  },
  {
   "cell_type": "markdown",
   "metadata": {},
   "source": [
    "## Objective: \n",
    "- predict which customers will buy a travel package \n"
   ]
  },
  {
   "cell_type": "code",
   "execution_count": 146,
   "metadata": {},
   "outputs": [],
   "source": [
    "### import all packages \n",
    "\n",
    "import pandas as pd\n",
    "import numpy as np\n",
    "from sklearn import metrics\n",
    "import matplotlib.pyplot as plt\n",
    "%matplotlib inline\n",
    "import warnings\n",
    "warnings.filterwarnings('ignore')\n",
    "import seaborn as sns\n",
    "from sklearn.model_selection import train_test_split\n",
    "from sklearn.model_selection import GridSearchCV\n",
    "from sklearn import metrics\n",
    "from sklearn.ensemble import BaggingClassifier, RandomForestClassifier\n",
    "from sklearn.linear_model import LogisticRegression\n",
    "\n",
    "%matplotlib inline\n",
    "import warnings\n",
    "warnings.filterwarnings('ignore')\n",
    "from sklearn.tree import DecisionTreeClassifier\n",
    "from sklearn.ensemble import AdaBoostClassifier, GradientBoostingClassifier\n",
    "from xgboost import XGBClassifier\n",
    "\n",
    "from sklearn.ensemble import StackingClassifier\n",
    "from sklearn.tree import DecisionTreeClassifier"
   ]
  },
  {
   "cell_type": "code",
   "execution_count": 2,
   "metadata": {},
   "outputs": [],
   "source": [
    "## import data \n",
    "\n",
    "data = pd.read_excel(\"Tourism.xlsx\", sheet_name = \"Tourism\")"
   ]
  },
  {
   "cell_type": "code",
   "execution_count": 3,
   "metadata": {},
   "outputs": [],
   "source": [
    "### lets take an quick look at the data"
   ]
  },
  {
   "cell_type": "code",
   "execution_count": 4,
   "metadata": {},
   "outputs": [
    {
     "data": {
      "text/html": [
       "<div>\n",
       "<style scoped>\n",
       "    .dataframe tbody tr th:only-of-type {\n",
       "        vertical-align: middle;\n",
       "    }\n",
       "\n",
       "    .dataframe tbody tr th {\n",
       "        vertical-align: top;\n",
       "    }\n",
       "\n",
       "    .dataframe thead th {\n",
       "        text-align: right;\n",
       "    }\n",
       "</style>\n",
       "<table border=\"1\" class=\"dataframe\">\n",
       "  <thead>\n",
       "    <tr style=\"text-align: right;\">\n",
       "      <th></th>\n",
       "      <th>CustomerID</th>\n",
       "      <th>ProdTaken</th>\n",
       "      <th>Age</th>\n",
       "      <th>TypeofContact</th>\n",
       "      <th>CityTier</th>\n",
       "      <th>DurationOfPitch</th>\n",
       "      <th>Occupation</th>\n",
       "      <th>Gender</th>\n",
       "      <th>NumberOfPersonVisiting</th>\n",
       "      <th>NumberOfFollowups</th>\n",
       "      <th>ProductPitched</th>\n",
       "      <th>PreferredPropertyStar</th>\n",
       "      <th>MaritalStatus</th>\n",
       "      <th>NumberOfTrips</th>\n",
       "      <th>Passport</th>\n",
       "      <th>PitchSatisfactionScore</th>\n",
       "      <th>OwnCar</th>\n",
       "      <th>NumberOfChildrenVisiting</th>\n",
       "      <th>Designation</th>\n",
       "      <th>MonthlyIncome</th>\n",
       "    </tr>\n",
       "  </thead>\n",
       "  <tbody>\n",
       "    <tr>\n",
       "      <th>0</th>\n",
       "      <td>200000</td>\n",
       "      <td>1</td>\n",
       "      <td>41.0</td>\n",
       "      <td>Self Enquiry</td>\n",
       "      <td>3</td>\n",
       "      <td>6.0</td>\n",
       "      <td>Salaried</td>\n",
       "      <td>Female</td>\n",
       "      <td>3</td>\n",
       "      <td>3.0</td>\n",
       "      <td>Deluxe</td>\n",
       "      <td>3.0</td>\n",
       "      <td>Single</td>\n",
       "      <td>1.0</td>\n",
       "      <td>1</td>\n",
       "      <td>2</td>\n",
       "      <td>1</td>\n",
       "      <td>0.0</td>\n",
       "      <td>Manager</td>\n",
       "      <td>20993.0</td>\n",
       "    </tr>\n",
       "    <tr>\n",
       "      <th>1</th>\n",
       "      <td>200001</td>\n",
       "      <td>0</td>\n",
       "      <td>49.0</td>\n",
       "      <td>Company Invited</td>\n",
       "      <td>1</td>\n",
       "      <td>14.0</td>\n",
       "      <td>Salaried</td>\n",
       "      <td>Male</td>\n",
       "      <td>3</td>\n",
       "      <td>4.0</td>\n",
       "      <td>Deluxe</td>\n",
       "      <td>4.0</td>\n",
       "      <td>Divorced</td>\n",
       "      <td>2.0</td>\n",
       "      <td>0</td>\n",
       "      <td>3</td>\n",
       "      <td>1</td>\n",
       "      <td>2.0</td>\n",
       "      <td>Manager</td>\n",
       "      <td>20130.0</td>\n",
       "    </tr>\n",
       "    <tr>\n",
       "      <th>2</th>\n",
       "      <td>200002</td>\n",
       "      <td>1</td>\n",
       "      <td>37.0</td>\n",
       "      <td>Self Enquiry</td>\n",
       "      <td>1</td>\n",
       "      <td>8.0</td>\n",
       "      <td>Free Lancer</td>\n",
       "      <td>Male</td>\n",
       "      <td>3</td>\n",
       "      <td>4.0</td>\n",
       "      <td>Basic</td>\n",
       "      <td>3.0</td>\n",
       "      <td>Single</td>\n",
       "      <td>7.0</td>\n",
       "      <td>1</td>\n",
       "      <td>3</td>\n",
       "      <td>0</td>\n",
       "      <td>0.0</td>\n",
       "      <td>Executive</td>\n",
       "      <td>17090.0</td>\n",
       "    </tr>\n",
       "    <tr>\n",
       "      <th>3</th>\n",
       "      <td>200003</td>\n",
       "      <td>0</td>\n",
       "      <td>33.0</td>\n",
       "      <td>Company Invited</td>\n",
       "      <td>1</td>\n",
       "      <td>9.0</td>\n",
       "      <td>Salaried</td>\n",
       "      <td>Female</td>\n",
       "      <td>2</td>\n",
       "      <td>3.0</td>\n",
       "      <td>Basic</td>\n",
       "      <td>3.0</td>\n",
       "      <td>Divorced</td>\n",
       "      <td>2.0</td>\n",
       "      <td>1</td>\n",
       "      <td>5</td>\n",
       "      <td>1</td>\n",
       "      <td>1.0</td>\n",
       "      <td>Executive</td>\n",
       "      <td>17909.0</td>\n",
       "    </tr>\n",
       "    <tr>\n",
       "      <th>4</th>\n",
       "      <td>200004</td>\n",
       "      <td>0</td>\n",
       "      <td>NaN</td>\n",
       "      <td>Self Enquiry</td>\n",
       "      <td>1</td>\n",
       "      <td>8.0</td>\n",
       "      <td>Small Business</td>\n",
       "      <td>Male</td>\n",
       "      <td>2</td>\n",
       "      <td>3.0</td>\n",
       "      <td>Basic</td>\n",
       "      <td>4.0</td>\n",
       "      <td>Divorced</td>\n",
       "      <td>1.0</td>\n",
       "      <td>0</td>\n",
       "      <td>5</td>\n",
       "      <td>1</td>\n",
       "      <td>0.0</td>\n",
       "      <td>Executive</td>\n",
       "      <td>18468.0</td>\n",
       "    </tr>\n",
       "  </tbody>\n",
       "</table>\n",
       "</div>"
      ],
      "text/plain": [
       "   CustomerID  ProdTaken   Age    TypeofContact  CityTier  DurationOfPitch  \\\n",
       "0      200000          1  41.0     Self Enquiry         3              6.0   \n",
       "1      200001          0  49.0  Company Invited         1             14.0   \n",
       "2      200002          1  37.0     Self Enquiry         1              8.0   \n",
       "3      200003          0  33.0  Company Invited         1              9.0   \n",
       "4      200004          0   NaN     Self Enquiry         1              8.0   \n",
       "\n",
       "       Occupation  Gender  NumberOfPersonVisiting  NumberOfFollowups  \\\n",
       "0        Salaried  Female                       3                3.0   \n",
       "1        Salaried    Male                       3                4.0   \n",
       "2     Free Lancer    Male                       3                4.0   \n",
       "3        Salaried  Female                       2                3.0   \n",
       "4  Small Business    Male                       2                3.0   \n",
       "\n",
       "  ProductPitched  PreferredPropertyStar MaritalStatus  NumberOfTrips  \\\n",
       "0         Deluxe                    3.0        Single            1.0   \n",
       "1         Deluxe                    4.0      Divorced            2.0   \n",
       "2          Basic                    3.0        Single            7.0   \n",
       "3          Basic                    3.0      Divorced            2.0   \n",
       "4          Basic                    4.0      Divorced            1.0   \n",
       "\n",
       "   Passport  PitchSatisfactionScore  OwnCar  NumberOfChildrenVisiting  \\\n",
       "0         1                       2       1                       0.0   \n",
       "1         0                       3       1                       2.0   \n",
       "2         1                       3       0                       0.0   \n",
       "3         1                       5       1                       1.0   \n",
       "4         0                       5       1                       0.0   \n",
       "\n",
       "  Designation  MonthlyIncome  \n",
       "0     Manager        20993.0  \n",
       "1     Manager        20130.0  \n",
       "2   Executive        17090.0  \n",
       "3   Executive        17909.0  \n",
       "4   Executive        18468.0  "
      ]
     },
     "execution_count": 4,
     "metadata": {},
     "output_type": "execute_result"
    }
   ],
   "source": [
    "data.head()"
   ]
  },
  {
   "cell_type": "code",
   "execution_count": 5,
   "metadata": {},
   "outputs": [
    {
     "data": {
      "text/plain": [
       "(4888, 20)"
      ]
     },
     "execution_count": 5,
     "metadata": {},
     "output_type": "execute_result"
    }
   ],
   "source": [
    "data.shape"
   ]
  },
  {
   "cell_type": "code",
   "execution_count": 6,
   "metadata": {},
   "outputs": [
    {
     "name": "stdout",
     "output_type": "stream",
     "text": [
      "<class 'pandas.core.frame.DataFrame'>\n",
      "RangeIndex: 4888 entries, 0 to 4887\n",
      "Data columns (total 20 columns):\n",
      " #   Column                    Non-Null Count  Dtype  \n",
      "---  ------                    --------------  -----  \n",
      " 0   CustomerID                4888 non-null   int64  \n",
      " 1   ProdTaken                 4888 non-null   int64  \n",
      " 2   Age                       4662 non-null   float64\n",
      " 3   TypeofContact             4863 non-null   object \n",
      " 4   CityTier                  4888 non-null   int64  \n",
      " 5   DurationOfPitch           4637 non-null   float64\n",
      " 6   Occupation                4888 non-null   object \n",
      " 7   Gender                    4888 non-null   object \n",
      " 8   NumberOfPersonVisiting    4888 non-null   int64  \n",
      " 9   NumberOfFollowups         4843 non-null   float64\n",
      " 10  ProductPitched            4888 non-null   object \n",
      " 11  PreferredPropertyStar     4862 non-null   float64\n",
      " 12  MaritalStatus             4888 non-null   object \n",
      " 13  NumberOfTrips             4748 non-null   float64\n",
      " 14  Passport                  4888 non-null   int64  \n",
      " 15  PitchSatisfactionScore    4888 non-null   int64  \n",
      " 16  OwnCar                    4888 non-null   int64  \n",
      " 17  NumberOfChildrenVisiting  4822 non-null   float64\n",
      " 18  Designation               4888 non-null   object \n",
      " 19  MonthlyIncome             4655 non-null   float64\n",
      "dtypes: float64(7), int64(7), object(6)\n",
      "memory usage: 763.9+ KB\n"
     ]
    }
   ],
   "source": [
    "data.info()"
   ]
  },
  {
   "cell_type": "code",
   "execution_count": 7,
   "metadata": {
    "scrolled": true
   },
   "outputs": [
    {
     "data": {
      "text/plain": [
       "CustomerID                    0\n",
       "ProdTaken                     0\n",
       "Age                         226\n",
       "TypeofContact                25\n",
       "CityTier                      0\n",
       "DurationOfPitch             251\n",
       "Occupation                    0\n",
       "Gender                        0\n",
       "NumberOfPersonVisiting        0\n",
       "NumberOfFollowups            45\n",
       "ProductPitched                0\n",
       "PreferredPropertyStar        26\n",
       "MaritalStatus                 0\n",
       "NumberOfTrips               140\n",
       "Passport                      0\n",
       "PitchSatisfactionScore        0\n",
       "OwnCar                        0\n",
       "NumberOfChildrenVisiting     66\n",
       "Designation                   0\n",
       "MonthlyIncome               233\n",
       "dtype: int64"
      ]
     },
     "execution_count": 7,
     "metadata": {},
     "output_type": "execute_result"
    }
   ],
   "source": [
    "data.isnull().sum()"
   ]
  },
  {
   "cell_type": "code",
   "execution_count": 8,
   "metadata": {},
   "outputs": [
    {
     "data": {
      "text/plain": [
       "CustomerID                  4888\n",
       "ProdTaken                      2\n",
       "Age                           44\n",
       "TypeofContact                  2\n",
       "CityTier                       3\n",
       "DurationOfPitch               34\n",
       "Occupation                     4\n",
       "Gender                         3\n",
       "NumberOfPersonVisiting         5\n",
       "NumberOfFollowups              6\n",
       "ProductPitched                 5\n",
       "PreferredPropertyStar          3\n",
       "MaritalStatus                  4\n",
       "NumberOfTrips                 12\n",
       "Passport                       2\n",
       "PitchSatisfactionScore         5\n",
       "OwnCar                         2\n",
       "NumberOfChildrenVisiting       4\n",
       "Designation                    5\n",
       "MonthlyIncome               2475\n",
       "dtype: int64"
      ]
     },
     "execution_count": 8,
     "metadata": {},
     "output_type": "execute_result"
    }
   ],
   "source": [
    "data.nunique()"
   ]
  },
  {
   "cell_type": "code",
   "execution_count": 9,
   "metadata": {},
   "outputs": [
    {
     "data": {
      "text/html": [
       "<div>\n",
       "<style scoped>\n",
       "    .dataframe tbody tr th:only-of-type {\n",
       "        vertical-align: middle;\n",
       "    }\n",
       "\n",
       "    .dataframe tbody tr th {\n",
       "        vertical-align: top;\n",
       "    }\n",
       "\n",
       "    .dataframe thead th {\n",
       "        text-align: right;\n",
       "    }\n",
       "</style>\n",
       "<table border=\"1\" class=\"dataframe\">\n",
       "  <thead>\n",
       "    <tr style=\"text-align: right;\">\n",
       "      <th></th>\n",
       "      <th>CustomerID</th>\n",
       "      <th>ProdTaken</th>\n",
       "      <th>Age</th>\n",
       "      <th>CityTier</th>\n",
       "      <th>DurationOfPitch</th>\n",
       "      <th>NumberOfPersonVisiting</th>\n",
       "      <th>NumberOfFollowups</th>\n",
       "      <th>PreferredPropertyStar</th>\n",
       "      <th>NumberOfTrips</th>\n",
       "      <th>Passport</th>\n",
       "      <th>PitchSatisfactionScore</th>\n",
       "      <th>OwnCar</th>\n",
       "      <th>NumberOfChildrenVisiting</th>\n",
       "      <th>MonthlyIncome</th>\n",
       "    </tr>\n",
       "  </thead>\n",
       "  <tbody>\n",
       "    <tr>\n",
       "      <th>count</th>\n",
       "      <td>4888.000000</td>\n",
       "      <td>4888.000000</td>\n",
       "      <td>4662.000000</td>\n",
       "      <td>4888.000000</td>\n",
       "      <td>4637.000000</td>\n",
       "      <td>4888.000000</td>\n",
       "      <td>4843.000000</td>\n",
       "      <td>4862.000000</td>\n",
       "      <td>4748.000000</td>\n",
       "      <td>4888.000000</td>\n",
       "      <td>4888.000000</td>\n",
       "      <td>4888.000000</td>\n",
       "      <td>4822.000000</td>\n",
       "      <td>4655.000000</td>\n",
       "    </tr>\n",
       "    <tr>\n",
       "      <th>mean</th>\n",
       "      <td>202443.500000</td>\n",
       "      <td>0.188216</td>\n",
       "      <td>37.622265</td>\n",
       "      <td>1.654255</td>\n",
       "      <td>15.490835</td>\n",
       "      <td>2.905074</td>\n",
       "      <td>3.708445</td>\n",
       "      <td>3.581037</td>\n",
       "      <td>3.236521</td>\n",
       "      <td>0.290917</td>\n",
       "      <td>3.078151</td>\n",
       "      <td>0.620295</td>\n",
       "      <td>1.187267</td>\n",
       "      <td>23619.853491</td>\n",
       "    </tr>\n",
       "    <tr>\n",
       "      <th>std</th>\n",
       "      <td>1411.188388</td>\n",
       "      <td>0.390925</td>\n",
       "      <td>9.316387</td>\n",
       "      <td>0.916583</td>\n",
       "      <td>8.519643</td>\n",
       "      <td>0.724891</td>\n",
       "      <td>1.002509</td>\n",
       "      <td>0.798009</td>\n",
       "      <td>1.849019</td>\n",
       "      <td>0.454232</td>\n",
       "      <td>1.365792</td>\n",
       "      <td>0.485363</td>\n",
       "      <td>0.857861</td>\n",
       "      <td>5380.698361</td>\n",
       "    </tr>\n",
       "    <tr>\n",
       "      <th>min</th>\n",
       "      <td>200000.000000</td>\n",
       "      <td>0.000000</td>\n",
       "      <td>18.000000</td>\n",
       "      <td>1.000000</td>\n",
       "      <td>5.000000</td>\n",
       "      <td>1.000000</td>\n",
       "      <td>1.000000</td>\n",
       "      <td>3.000000</td>\n",
       "      <td>1.000000</td>\n",
       "      <td>0.000000</td>\n",
       "      <td>1.000000</td>\n",
       "      <td>0.000000</td>\n",
       "      <td>0.000000</td>\n",
       "      <td>1000.000000</td>\n",
       "    </tr>\n",
       "    <tr>\n",
       "      <th>25%</th>\n",
       "      <td>201221.750000</td>\n",
       "      <td>0.000000</td>\n",
       "      <td>31.000000</td>\n",
       "      <td>1.000000</td>\n",
       "      <td>9.000000</td>\n",
       "      <td>2.000000</td>\n",
       "      <td>3.000000</td>\n",
       "      <td>3.000000</td>\n",
       "      <td>2.000000</td>\n",
       "      <td>0.000000</td>\n",
       "      <td>2.000000</td>\n",
       "      <td>0.000000</td>\n",
       "      <td>1.000000</td>\n",
       "      <td>20346.000000</td>\n",
       "    </tr>\n",
       "    <tr>\n",
       "      <th>50%</th>\n",
       "      <td>202443.500000</td>\n",
       "      <td>0.000000</td>\n",
       "      <td>36.000000</td>\n",
       "      <td>1.000000</td>\n",
       "      <td>13.000000</td>\n",
       "      <td>3.000000</td>\n",
       "      <td>4.000000</td>\n",
       "      <td>3.000000</td>\n",
       "      <td>3.000000</td>\n",
       "      <td>0.000000</td>\n",
       "      <td>3.000000</td>\n",
       "      <td>1.000000</td>\n",
       "      <td>1.000000</td>\n",
       "      <td>22347.000000</td>\n",
       "    </tr>\n",
       "    <tr>\n",
       "      <th>75%</th>\n",
       "      <td>203665.250000</td>\n",
       "      <td>0.000000</td>\n",
       "      <td>44.000000</td>\n",
       "      <td>3.000000</td>\n",
       "      <td>20.000000</td>\n",
       "      <td>3.000000</td>\n",
       "      <td>4.000000</td>\n",
       "      <td>4.000000</td>\n",
       "      <td>4.000000</td>\n",
       "      <td>1.000000</td>\n",
       "      <td>4.000000</td>\n",
       "      <td>1.000000</td>\n",
       "      <td>2.000000</td>\n",
       "      <td>25571.000000</td>\n",
       "    </tr>\n",
       "    <tr>\n",
       "      <th>max</th>\n",
       "      <td>204887.000000</td>\n",
       "      <td>1.000000</td>\n",
       "      <td>61.000000</td>\n",
       "      <td>3.000000</td>\n",
       "      <td>127.000000</td>\n",
       "      <td>5.000000</td>\n",
       "      <td>6.000000</td>\n",
       "      <td>5.000000</td>\n",
       "      <td>22.000000</td>\n",
       "      <td>1.000000</td>\n",
       "      <td>5.000000</td>\n",
       "      <td>1.000000</td>\n",
       "      <td>3.000000</td>\n",
       "      <td>98678.000000</td>\n",
       "    </tr>\n",
       "  </tbody>\n",
       "</table>\n",
       "</div>"
      ],
      "text/plain": [
       "          CustomerID    ProdTaken          Age     CityTier  DurationOfPitch  \\\n",
       "count    4888.000000  4888.000000  4662.000000  4888.000000      4637.000000   \n",
       "mean   202443.500000     0.188216    37.622265     1.654255        15.490835   \n",
       "std      1411.188388     0.390925     9.316387     0.916583         8.519643   \n",
       "min    200000.000000     0.000000    18.000000     1.000000         5.000000   \n",
       "25%    201221.750000     0.000000    31.000000     1.000000         9.000000   \n",
       "50%    202443.500000     0.000000    36.000000     1.000000        13.000000   \n",
       "75%    203665.250000     0.000000    44.000000     3.000000        20.000000   \n",
       "max    204887.000000     1.000000    61.000000     3.000000       127.000000   \n",
       "\n",
       "       NumberOfPersonVisiting  NumberOfFollowups  PreferredPropertyStar  \\\n",
       "count             4888.000000        4843.000000            4862.000000   \n",
       "mean                 2.905074           3.708445               3.581037   \n",
       "std                  0.724891           1.002509               0.798009   \n",
       "min                  1.000000           1.000000               3.000000   \n",
       "25%                  2.000000           3.000000               3.000000   \n",
       "50%                  3.000000           4.000000               3.000000   \n",
       "75%                  3.000000           4.000000               4.000000   \n",
       "max                  5.000000           6.000000               5.000000   \n",
       "\n",
       "       NumberOfTrips     Passport  PitchSatisfactionScore       OwnCar  \\\n",
       "count    4748.000000  4888.000000             4888.000000  4888.000000   \n",
       "mean        3.236521     0.290917                3.078151     0.620295   \n",
       "std         1.849019     0.454232                1.365792     0.485363   \n",
       "min         1.000000     0.000000                1.000000     0.000000   \n",
       "25%         2.000000     0.000000                2.000000     0.000000   \n",
       "50%         3.000000     0.000000                3.000000     1.000000   \n",
       "75%         4.000000     1.000000                4.000000     1.000000   \n",
       "max        22.000000     1.000000                5.000000     1.000000   \n",
       "\n",
       "       NumberOfChildrenVisiting  MonthlyIncome  \n",
       "count               4822.000000    4655.000000  \n",
       "mean                   1.187267   23619.853491  \n",
       "std                    0.857861    5380.698361  \n",
       "min                    0.000000    1000.000000  \n",
       "25%                    1.000000   20346.000000  \n",
       "50%                    1.000000   22347.000000  \n",
       "75%                    2.000000   25571.000000  \n",
       "max                    3.000000   98678.000000  "
      ]
     },
     "execution_count": 9,
     "metadata": {},
     "output_type": "execute_result"
    }
   ],
   "source": [
    "data.describe()"
   ]
  },
  {
   "cell_type": "markdown",
   "metadata": {},
   "source": [
    "#### EDA insights:\n",
    "1. there are 4800 unique entries\n",
    "2. the average person asked was 37 years old and listened to a 15 minute pitch \n",
    "3. the average person had almost 4 followups \n",
    "4. very few people had their own car "
   ]
  },
  {
   "cell_type": "markdown",
   "metadata": {},
   "source": [
    "#### Data Preprocessing "
   ]
  },
  {
   "cell_type": "code",
   "execution_count": 10,
   "metadata": {},
   "outputs": [
    {
     "data": {
      "text/plain": [
       "0    3968\n",
       "1     920\n",
       "Name: ProdTaken, dtype: int64"
      ]
     },
     "execution_count": 10,
     "metadata": {},
     "output_type": "execute_result"
    }
   ],
   "source": [
    "## clean up Prod Taken\n",
    "\n",
    "data[\"ProdTaken\"].value_counts()\n",
    "\n",
    "## there are no missing values, and the data is binary, so this column is ok "
   ]
  },
  {
   "cell_type": "code",
   "execution_count": 11,
   "metadata": {},
   "outputs": [],
   "source": [
    "## clean up Age \n",
    "\n",
    "data[\"Age\"].value_counts()\n",
    "## replace na values with mean \n",
    "data[\"Age\"].fillna(value = data[\"Age\"].mean(), inplace = True)"
   ]
  },
  {
   "cell_type": "code",
   "execution_count": 12,
   "metadata": {},
   "outputs": [],
   "source": [
    "## clean up TypeofContact\n",
    "\n",
    "data[\"TypeofContact\"].value_counts()\n",
    "\n",
    "##remove na values\n",
    "data.dropna(subset = [\"TypeofContact\"], inplace = True)"
   ]
  },
  {
   "cell_type": "code",
   "execution_count": 13,
   "metadata": {},
   "outputs": [
    {
     "data": {
      "text/plain": [
       "CustomerID                    0\n",
       "ProdTaken                     0\n",
       "Age                           0\n",
       "TypeofContact                 0\n",
       "CityTier                      0\n",
       "DurationOfPitch             226\n",
       "Occupation                    0\n",
       "Gender                        0\n",
       "NumberOfPersonVisiting        0\n",
       "NumberOfFollowups            45\n",
       "ProductPitched                0\n",
       "PreferredPropertyStar        26\n",
       "MaritalStatus                 0\n",
       "NumberOfTrips               140\n",
       "Passport                      0\n",
       "PitchSatisfactionScore        0\n",
       "OwnCar                        0\n",
       "NumberOfChildrenVisiting     66\n",
       "Designation                   0\n",
       "MonthlyIncome               208\n",
       "dtype: int64"
      ]
     },
     "execution_count": 13,
     "metadata": {},
     "output_type": "execute_result"
    }
   ],
   "source": [
    "data.isnull().sum()"
   ]
  },
  {
   "cell_type": "code",
   "execution_count": 14,
   "metadata": {},
   "outputs": [
    {
     "data": {
      "text/plain": [
       "1    3173\n",
       "3    1492\n",
       "2     198\n",
       "Name: CityTier, dtype: int64"
      ]
     },
     "execution_count": 14,
     "metadata": {},
     "output_type": "execute_result"
    }
   ],
   "source": [
    "## clean up CityTier\n",
    "\n",
    "data[\"CityTier\"].value_counts()\n",
    "\n",
    "## there are no missing values"
   ]
  },
  {
   "cell_type": "code",
   "execution_count": 15,
   "metadata": {},
   "outputs": [],
   "source": [
    "## clean up DurationOfPitch\n",
    "\n",
    "data[\"DurationOfPitch\"].value_counts()\n",
    "\n",
    "## replace na values with mean \n",
    "data[\"DurationOfPitch\"].fillna(value = data[\"DurationOfPitch\"].mean(), inplace = True)"
   ]
  },
  {
   "cell_type": "code",
   "execution_count": 16,
   "metadata": {},
   "outputs": [
    {
     "data": {
      "text/plain": [
       "Salaried          2363\n",
       "Small Business    2064\n",
       "Large Business     434\n",
       "Free Lancer          2\n",
       "Name: Occupation, dtype: int64"
      ]
     },
     "execution_count": 16,
     "metadata": {},
     "output_type": "execute_result"
    }
   ],
   "source": [
    "## clean up Occupation \n",
    "\n",
    "data[\"Occupation\"].value_counts()\n",
    "\n",
    "## there are no missing values"
   ]
  },
  {
   "cell_type": "code",
   "execution_count": 17,
   "metadata": {},
   "outputs": [],
   "source": [
    "## clean up Gender \n",
    "\n",
    "data[\"Gender\"].value_counts()\n",
    "## there are 3 genders, but the Fe Male and Female genders can be combined\n",
    "data[\"Gender\"].replace(\"Fe Male\", \"Female\", inplace =True)\n",
    "\n",
    "## there are no missing values, and the data is binary, so this column is ok "
   ]
  },
  {
   "cell_type": "code",
   "execution_count": 18,
   "metadata": {},
   "outputs": [
    {
     "data": {
      "text/plain": [
       "3    2394\n",
       "2    1401\n",
       "4    1026\n",
       "1      39\n",
       "5       3\n",
       "Name: NumberOfPersonVisiting, dtype: int64"
      ]
     },
     "execution_count": 18,
     "metadata": {},
     "output_type": "execute_result"
    }
   ],
   "source": [
    "## clean up NumberOfPersonVisiting \n",
    "\n",
    "data[\"NumberOfPersonVisiting\"].value_counts()\n",
    "## there are no missing values, so this column is ok "
   ]
  },
  {
   "cell_type": "code",
   "execution_count": 19,
   "metadata": {},
   "outputs": [],
   "source": [
    "## clean up NumberOfFollowups \n",
    "\n",
    "data[\"NumberOfFollowups\"].value_counts()\n",
    "\n",
    "## replace na values with the mean \n",
    "## however, the mean is 3.71, which is not possible in reality (since you cannot do 3.71 followups), \n",
    "##so the missing values were replaced with 3\n",
    "\n",
    "data[\"NumberOfFollowups\"].fillna(value = 3, inplace = True)"
   ]
  },
  {
   "cell_type": "code",
   "execution_count": 20,
   "metadata": {},
   "outputs": [
    {
     "data": {
      "text/plain": [
       "Basic           1832\n",
       "Deluxe          1717\n",
       "Standard         742\n",
       "Super Deluxe     342\n",
       "King             230\n",
       "Name: ProductPitched, dtype: int64"
      ]
     },
     "execution_count": 20,
     "metadata": {},
     "output_type": "execute_result"
    }
   ],
   "source": [
    "## clean up ProductPitched \n",
    "\n",
    "data[\"ProductPitched\"].value_counts()\n",
    "\n",
    "\n",
    "## there are no missing values"
   ]
  },
  {
   "cell_type": "code",
   "execution_count": 21,
   "metadata": {},
   "outputs": [],
   "source": [
    "## clean up PreferredPropertyStar \n",
    "\n",
    "data[\"PreferredPropertyStar\"].value_counts()\n",
    "\n",
    "## missing values\n",
    "## however, the mean is 3.58, which is not possible in reality (since you cannot give 3.58 stars), \n",
    "##so the missing values were replaced with 3\n",
    "\n",
    "data[\"PreferredPropertyStar\"].fillna(value = 3, inplace = True)"
   ]
  },
  {
   "cell_type": "code",
   "execution_count": 22,
   "metadata": {},
   "outputs": [
    {
     "data": {
      "text/plain": [
       "Married      2325\n",
       "Divorced      944\n",
       "Single        912\n",
       "Unmarried     682\n",
       "Name: MaritalStatus, dtype: int64"
      ]
     },
     "execution_count": 22,
     "metadata": {},
     "output_type": "execute_result"
    }
   ],
   "source": [
    "## clean up MaritalStatus \n",
    "\n",
    "data[\"MaritalStatus\"].value_counts()\n",
    "## there are no missing values"
   ]
  },
  {
   "cell_type": "code",
   "execution_count": 23,
   "metadata": {},
   "outputs": [],
   "source": [
    "## clean up NumberOfTrips \n",
    "\n",
    "data[\"NumberOfTrips\"].value_counts()\n",
    "\n",
    "## missing values\n",
    "## however, the mean is 3.323, which is not possible in reality (since you cannot have 3.323 trips), \n",
    "##so the missing values were replaced with 3\n",
    "data[\"NumberOfTrips\"].fillna(value = 3, inplace = True)"
   ]
  },
  {
   "cell_type": "code",
   "execution_count": 24,
   "metadata": {},
   "outputs": [
    {
     "data": {
      "text/plain": [
       "0    3441\n",
       "1    1422\n",
       "Name: Passport, dtype: int64"
      ]
     },
     "execution_count": 24,
     "metadata": {},
     "output_type": "execute_result"
    }
   ],
   "source": [
    "## clean up Passport \n",
    "\n",
    "data[\"Passport\"].value_counts()\n",
    "\n",
    "## no missing values"
   ]
  },
  {
   "cell_type": "code",
   "execution_count": 25,
   "metadata": {},
   "outputs": [
    {
     "data": {
      "text/plain": [
       "3    1466\n",
       "5     967\n",
       "1     937\n",
       "4     910\n",
       "2     583\n",
       "Name: PitchSatisfactionScore, dtype: int64"
      ]
     },
     "execution_count": 25,
     "metadata": {},
     "output_type": "execute_result"
    }
   ],
   "source": [
    "## clean up PitchSatisfactionScore \n",
    "\n",
    "data[\"PitchSatisfactionScore\"].value_counts()\n",
    "\n",
    "## no missing values"
   ]
  },
  {
   "cell_type": "code",
   "execution_count": 26,
   "metadata": {},
   "outputs": [
    {
     "data": {
      "text/plain": [
       "1    3018\n",
       "0    1845\n",
       "Name: OwnCar, dtype: int64"
      ]
     },
     "execution_count": 26,
     "metadata": {},
     "output_type": "execute_result"
    }
   ],
   "source": [
    "## clean up OwnCar \n",
    "\n",
    "data[\"OwnCar\"].value_counts()\n",
    "\n",
    "## no missing values"
   ]
  },
  {
   "cell_type": "code",
   "execution_count": 27,
   "metadata": {},
   "outputs": [],
   "source": [
    "## clean up NumberOfChildrenVisiting \n",
    "\n",
    "data[\"NumberOfChildrenVisiting\"].value_counts()\n",
    "\n",
    "## missing values\n",
    "## the mean is 1.18, which is not possible in reality (since you cannot have 1.18 children), \n",
    "##so the missing values were replaced with 1\n",
    "\n",
    "data[\"NumberOfChildrenVisiting\"].fillna(value = 1, inplace = True)"
   ]
  },
  {
   "cell_type": "code",
   "execution_count": 28,
   "metadata": {},
   "outputs": [
    {
     "data": {
      "text/plain": [
       "Executive         1832\n",
       "Manager           1717\n",
       "Senior Manager     742\n",
       "AVP                342\n",
       "VP                 230\n",
       "Name: Designation, dtype: int64"
      ]
     },
     "execution_count": 28,
     "metadata": {},
     "output_type": "execute_result"
    }
   ],
   "source": [
    "## clean up Designation \n",
    "\n",
    "data[\"Designation\"].value_counts()\n",
    "\n",
    "## no missing values"
   ]
  },
  {
   "cell_type": "code",
   "execution_count": 29,
   "metadata": {},
   "outputs": [],
   "source": [
    "## clean up MonthlyIncome \n",
    "\n",
    "data[\"MonthlyIncome\"].value_counts()\n",
    "\n",
    "## missing values\n",
    "data[\"MonthlyIncome\"].fillna(value = data[\"MonthlyIncome\"].mean(), inplace = True)"
   ]
  },
  {
   "cell_type": "markdown",
   "metadata": {},
   "source": [
    "#### Univariate Analyses"
   ]
  },
  {
   "cell_type": "code",
   "execution_count": 30,
   "metadata": {},
   "outputs": [
    {
     "name": "stdout",
     "output_type": "stream",
     "text": [
      "['CustomerID', 'ProdTaken', 'Age', 'TypeofContact', 'CityTier', 'DurationOfPitch', 'Occupation', 'Gender', 'NumberOfPersonVisiting', 'NumberOfFollowups', 'ProductPitched', 'PreferredPropertyStar', 'MaritalStatus', 'NumberOfTrips', 'Passport', 'PitchSatisfactionScore', 'OwnCar', 'NumberOfChildrenVisiting', 'Designation', 'MonthlyIncome']\n"
     ]
    },
    {
     "data": {
      "text/plain": [
       "<Figure size 1080x360 with 0 Axes>"
      ]
     },
     "metadata": {},
     "output_type": "display_data"
    },
    {
     "data": {
      "image/png": "[encoded data removed]",
      "text/plain": [
       "<Figure size 1440x2880 with 48 Axes>"
      ]
     },
     "metadata": {
      "needs_background": "light"
     },
     "output_type": "display_data"
    }
   ],
   "source": [
    "plt.figure(figsize=(15,5))\n",
    "cols = list(data)\n",
    "\n",
    "print (cols)\n",
    "data[cols].hist(stacked=False, bins=10, figsize=(20,40), layout=(12,4)); "
   ]
  },
  {
   "cell_type": "code",
   "execution_count": 31,
   "metadata": {},
   "outputs": [
    {
     "data": {
      "text/plain": [
       "<matplotlib.axes._subplots.AxesSubplot at 0x7fb4f72167c0>"
      ]
     },
     "execution_count": 31,
     "metadata": {},
     "output_type": "execute_result"
    },
    {
     "data": {
      "image/png": "[encoded data removed]",
      "text/plain": [
       "<Figure size 504x504 with 4 Axes>"
      ]
     },
     "metadata": {
      "needs_background": "light"
     },
     "output_type": "display_data"
    }
   ],
   "source": [
    "##lets look at the variables with non binned data (not ordinal)\n",
    "\n",
    "fig, axes = plt.subplots(2, 2, figsize=(7, 7))\n",
    "\n",
    "data.boxplot(column = \"Age\", ax =axes[0,0], grid =False, patch_artist=True)\n",
    "data.boxplot(column = \"DurationOfPitch\",ax =axes[0,1], grid =False, patch_artist=True)\n",
    "data.boxplot(column = \"MonthlyIncome\",ax =axes[1,0], grid =False, patch_artist=True)\n",
    "data.boxplot(column = \"NumberOfTrips\",ax =axes[1,1], grid =False, patch_artist=True)\n"
   ]
  },
  {
   "cell_type": "markdown",
   "metadata": {},
   "source": [
    "#### Univariate insights \n",
    "- there are outliers in monthly incomem number of trips, and duration of pitch \n",
    "- duration of pitch is skewed right \n",
    "- income is skewed right \n",
    "- trips are skewed right\n",
    "- these outliers were not treated as they were so few in number(which is not that likely to greatly affect the results), and i was interested in the affect of these points on taking the product (dependent variable)"
   ]
  },
  {
   "cell_type": "markdown",
   "metadata": {},
   "source": [
    "#### Bivariate analysis"
   ]
  },
  {
   "cell_type": "code",
   "execution_count": 32,
   "metadata": {},
   "outputs": [],
   "source": [
    "## lets drop customer id since it has no relationship with the variables \n",
    "data.drop([\"CustomerID\"], axis = 1, inplace =True)"
   ]
  },
  {
   "cell_type": "code",
   "execution_count": 33,
   "metadata": {},
   "outputs": [
    {
     "data": {
      "text/html": [
       "<div>\n",
       "<style scoped>\n",
       "    .dataframe tbody tr th:only-of-type {\n",
       "        vertical-align: middle;\n",
       "    }\n",
       "\n",
       "    .dataframe tbody tr th {\n",
       "        vertical-align: top;\n",
       "    }\n",
       "\n",
       "    .dataframe thead th {\n",
       "        text-align: right;\n",
       "    }\n",
       "</style>\n",
       "<table border=\"1\" class=\"dataframe\">\n",
       "  <thead>\n",
       "    <tr style=\"text-align: right;\">\n",
       "      <th></th>\n",
       "      <th>ProdTaken</th>\n",
       "      <th>Age</th>\n",
       "      <th>CityTier</th>\n",
       "      <th>DurationOfPitch</th>\n",
       "      <th>NumberOfPersonVisiting</th>\n",
       "      <th>NumberOfFollowups</th>\n",
       "      <th>PreferredPropertyStar</th>\n",
       "      <th>NumberOfTrips</th>\n",
       "      <th>Passport</th>\n",
       "      <th>PitchSatisfactionScore</th>\n",
       "      <th>OwnCar</th>\n",
       "      <th>NumberOfChildrenVisiting</th>\n",
       "      <th>MonthlyIncome</th>\n",
       "    </tr>\n",
       "  </thead>\n",
       "  <tbody>\n",
       "    <tr>\n",
       "      <th>ProdTaken</th>\n",
       "      <td>1.000000</td>\n",
       "      <td>-0.144572</td>\n",
       "      <td>0.087184</td>\n",
       "      <td>0.076438</td>\n",
       "      <td>0.008915</td>\n",
       "      <td>0.111813</td>\n",
       "      <td>0.098548</td>\n",
       "      <td>0.016980</td>\n",
       "      <td>0.261027</td>\n",
       "      <td>0.051952</td>\n",
       "      <td>-0.012020</td>\n",
       "      <td>0.007920</td>\n",
       "      <td>-0.128329</td>\n",
       "    </tr>\n",
       "    <tr>\n",
       "      <th>Age</th>\n",
       "      <td>-0.144572</td>\n",
       "      <td>1.000000</td>\n",
       "      <td>-0.016546</td>\n",
       "      <td>-0.011309</td>\n",
       "      <td>0.008450</td>\n",
       "      <td>-0.004033</td>\n",
       "      <td>-0.017908</td>\n",
       "      <td>0.171557</td>\n",
       "      <td>0.029981</td>\n",
       "      <td>0.017343</td>\n",
       "      <td>0.047625</td>\n",
       "      <td>0.000443</td>\n",
       "      <td>0.457464</td>\n",
       "    </tr>\n",
       "    <tr>\n",
       "      <th>CityTier</th>\n",
       "      <td>0.087184</td>\n",
       "      <td>-0.016546</td>\n",
       "      <td>1.000000</td>\n",
       "      <td>0.022078</td>\n",
       "      <td>-0.002017</td>\n",
       "      <td>0.021707</td>\n",
       "      <td>-0.010499</td>\n",
       "      <td>-0.028335</td>\n",
       "      <td>0.001749</td>\n",
       "      <td>-0.041260</td>\n",
       "      <td>0.005196</td>\n",
       "      <td>0.000421</td>\n",
       "      <td>0.050779</td>\n",
       "    </tr>\n",
       "    <tr>\n",
       "      <th>DurationOfPitch</th>\n",
       "      <td>0.076438</td>\n",
       "      <td>-0.011309</td>\n",
       "      <td>0.022078</td>\n",
       "      <td>1.000000</td>\n",
       "      <td>0.063484</td>\n",
       "      <td>0.010445</td>\n",
       "      <td>-0.005937</td>\n",
       "      <td>0.010314</td>\n",
       "      <td>0.032279</td>\n",
       "      <td>-0.002816</td>\n",
       "      <td>-0.001590</td>\n",
       "      <td>0.030541</td>\n",
       "      <td>-0.006004</td>\n",
       "    </tr>\n",
       "    <tr>\n",
       "      <th>NumberOfPersonVisiting</th>\n",
       "      <td>0.008915</td>\n",
       "      <td>0.008450</td>\n",
       "      <td>-0.002017</td>\n",
       "      <td>0.063484</td>\n",
       "      <td>1.000000</td>\n",
       "      <td>0.330185</td>\n",
       "      <td>0.030504</td>\n",
       "      <td>0.189400</td>\n",
       "      <td>0.008551</td>\n",
       "      <td>-0.019195</td>\n",
       "      <td>0.010181</td>\n",
       "      <td>0.606655</td>\n",
       "      <td>0.189798</td>\n",
       "    </tr>\n",
       "    <tr>\n",
       "      <th>NumberOfFollowups</th>\n",
       "      <td>0.111813</td>\n",
       "      <td>-0.004033</td>\n",
       "      <td>0.021707</td>\n",
       "      <td>0.010445</td>\n",
       "      <td>0.330185</td>\n",
       "      <td>1.000000</td>\n",
       "      <td>-0.029291</td>\n",
       "      <td>0.138100</td>\n",
       "      <td>0.004882</td>\n",
       "      <td>0.002942</td>\n",
       "      <td>0.010209</td>\n",
       "      <td>0.285966</td>\n",
       "      <td>0.177480</td>\n",
       "    </tr>\n",
       "    <tr>\n",
       "      <th>PreferredPropertyStar</th>\n",
       "      <td>0.098548</td>\n",
       "      <td>-0.017908</td>\n",
       "      <td>-0.010499</td>\n",
       "      <td>-0.005937</td>\n",
       "      <td>0.030504</td>\n",
       "      <td>-0.029291</td>\n",
       "      <td>1.000000</td>\n",
       "      <td>0.009914</td>\n",
       "      <td>0.000654</td>\n",
       "      <td>-0.022843</td>\n",
       "      <td>0.013093</td>\n",
       "      <td>0.032006</td>\n",
       "      <td>0.000822</td>\n",
       "    </tr>\n",
       "    <tr>\n",
       "      <th>NumberOfTrips</th>\n",
       "      <td>0.016980</td>\n",
       "      <td>0.171557</td>\n",
       "      <td>-0.028335</td>\n",
       "      <td>0.010314</td>\n",
       "      <td>0.189400</td>\n",
       "      <td>0.138100</td>\n",
       "      <td>0.009914</td>\n",
       "      <td>1.000000</td>\n",
       "      <td>0.012412</td>\n",
       "      <td>-0.003925</td>\n",
       "      <td>-0.012832</td>\n",
       "      <td>0.160982</td>\n",
       "      <td>0.111509</td>\n",
       "    </tr>\n",
       "    <tr>\n",
       "      <th>Passport</th>\n",
       "      <td>0.261027</td>\n",
       "      <td>0.029981</td>\n",
       "      <td>0.001749</td>\n",
       "      <td>0.032279</td>\n",
       "      <td>0.008551</td>\n",
       "      <td>0.004882</td>\n",
       "      <td>0.000654</td>\n",
       "      <td>0.012412</td>\n",
       "      <td>1.000000</td>\n",
       "      <td>0.002262</td>\n",
       "      <td>-0.022825</td>\n",
       "      <td>0.018051</td>\n",
       "      <td>0.002490</td>\n",
       "    </tr>\n",
       "    <tr>\n",
       "      <th>PitchSatisfactionScore</th>\n",
       "      <td>0.051952</td>\n",
       "      <td>0.017343</td>\n",
       "      <td>-0.041260</td>\n",
       "      <td>-0.002816</td>\n",
       "      <td>-0.019195</td>\n",
       "      <td>0.002942</td>\n",
       "      <td>-0.022843</td>\n",
       "      <td>-0.003925</td>\n",
       "      <td>0.002262</td>\n",
       "      <td>1.000000</td>\n",
       "      <td>0.067562</td>\n",
       "      <td>-0.001176</td>\n",
       "      <td>0.029763</td>\n",
       "    </tr>\n",
       "    <tr>\n",
       "      <th>OwnCar</th>\n",
       "      <td>-0.012020</td>\n",
       "      <td>0.047625</td>\n",
       "      <td>0.005196</td>\n",
       "      <td>-0.001590</td>\n",
       "      <td>0.010181</td>\n",
       "      <td>0.010209</td>\n",
       "      <td>0.013093</td>\n",
       "      <td>-0.012832</td>\n",
       "      <td>-0.022825</td>\n",
       "      <td>0.067562</td>\n",
       "      <td>1.000000</td>\n",
       "      <td>0.024560</td>\n",
       "      <td>0.078518</td>\n",
       "    </tr>\n",
       "    <tr>\n",
       "      <th>NumberOfChildrenVisiting</th>\n",
       "      <td>0.007920</td>\n",
       "      <td>0.000443</td>\n",
       "      <td>0.000421</td>\n",
       "      <td>0.030541</td>\n",
       "      <td>0.606655</td>\n",
       "      <td>0.285966</td>\n",
       "      <td>0.032006</td>\n",
       "      <td>0.160982</td>\n",
       "      <td>0.018051</td>\n",
       "      <td>-0.001176</td>\n",
       "      <td>0.024560</td>\n",
       "      <td>1.000000</td>\n",
       "      <td>0.182848</td>\n",
       "    </tr>\n",
       "    <tr>\n",
       "      <th>MonthlyIncome</th>\n",
       "      <td>-0.128329</td>\n",
       "      <td>0.457464</td>\n",
       "      <td>0.050779</td>\n",
       "      <td>-0.006004</td>\n",
       "      <td>0.189798</td>\n",
       "      <td>0.177480</td>\n",
       "      <td>0.000822</td>\n",
       "      <td>0.111509</td>\n",
       "      <td>0.002490</td>\n",
       "      <td>0.029763</td>\n",
       "      <td>0.078518</td>\n",
       "      <td>0.182848</td>\n",
       "      <td>1.000000</td>\n",
       "    </tr>\n",
       "  </tbody>\n",
       "</table>\n",
       "</div>"
      ],
      "text/plain": [
       "                          ProdTaken       Age  CityTier  DurationOfPitch  \\\n",
       "ProdTaken                  1.000000 -0.144572  0.087184         0.076438   \n",
       "Age                       -0.144572  1.000000 -0.016546        -0.011309   \n",
       "CityTier                   0.087184 -0.016546  1.000000         0.022078   \n",
       "DurationOfPitch            0.076438 -0.011309  0.022078         1.000000   \n",
       "NumberOfPersonVisiting     0.008915  0.008450 -0.002017         0.063484   \n",
       "NumberOfFollowups          0.111813 -0.004033  0.021707         0.010445   \n",
       "PreferredPropertyStar      0.098548 -0.017908 -0.010499        -0.005937   \n",
       "NumberOfTrips              0.016980  0.171557 -0.028335         0.010314   \n",
       "Passport                   0.261027  0.029981  0.001749         0.032279   \n",
       "PitchSatisfactionScore     0.051952  0.017343 -0.041260        -0.002816   \n",
       "OwnCar                    -0.012020  0.047625  0.005196        -0.001590   \n",
       "NumberOfChildrenVisiting   0.007920  0.000443  0.000421         0.030541   \n",
       "MonthlyIncome             -0.128329  0.457464  0.050779        -0.006004   \n",
       "\n",
       "                          NumberOfPersonVisiting  NumberOfFollowups  \\\n",
       "ProdTaken                               0.008915           0.111813   \n",
       "Age                                     0.008450          -0.004033   \n",
       "CityTier                               -0.002017           0.021707   \n",
       "DurationOfPitch                         0.063484           0.010445   \n",
       "NumberOfPersonVisiting                  1.000000           0.330185   \n",
       "NumberOfFollowups                       0.330185           1.000000   \n",
       "PreferredPropertyStar                   0.030504          -0.029291   \n",
       "NumberOfTrips                           0.189400           0.138100   \n",
       "Passport                                0.008551           0.004882   \n",
       "PitchSatisfactionScore                 -0.019195           0.002942   \n",
       "OwnCar                                  0.010181           0.010209   \n",
       "NumberOfChildrenVisiting                0.606655           0.285966   \n",
       "MonthlyIncome                           0.189798           0.177480   \n",
       "\n",
       "                          PreferredPropertyStar  NumberOfTrips  Passport  \\\n",
       "ProdTaken                              0.098548       0.016980  0.261027   \n",
       "Age                                   -0.017908       0.171557  0.029981   \n",
       "CityTier                              -0.010499      -0.028335  0.001749   \n",
       "DurationOfPitch                       -0.005937       0.010314  0.032279   \n",
       "NumberOfPersonVisiting                 0.030504       0.189400  0.008551   \n",
       "NumberOfFollowups                     -0.029291       0.138100  0.004882   \n",
       "PreferredPropertyStar                  1.000000       0.009914  0.000654   \n",
       "NumberOfTrips                          0.009914       1.000000  0.012412   \n",
       "Passport                               0.000654       0.012412  1.000000   \n",
       "PitchSatisfactionScore                -0.022843      -0.003925  0.002262   \n",
       "OwnCar                                 0.013093      -0.012832 -0.022825   \n",
       "NumberOfChildrenVisiting               0.032006       0.160982  0.018051   \n",
       "MonthlyIncome                          0.000822       0.111509  0.002490   \n",
       "\n",
       "                          PitchSatisfactionScore    OwnCar  \\\n",
       "ProdTaken                               0.051952 -0.012020   \n",
       "Age                                     0.017343  0.047625   \n",
       "CityTier                               -0.041260  0.005196   \n",
       "DurationOfPitch                        -0.002816 -0.001590   \n",
       "NumberOfPersonVisiting                 -0.019195  0.010181   \n",
       "NumberOfFollowups                       0.002942  0.010209   \n",
       "PreferredPropertyStar                  -0.022843  0.013093   \n",
       "NumberOfTrips                          -0.003925 -0.012832   \n",
       "Passport                                0.002262 -0.022825   \n",
       "PitchSatisfactionScore                  1.000000  0.067562   \n",
       "OwnCar                                  0.067562  1.000000   \n",
       "NumberOfChildrenVisiting               -0.001176  0.024560   \n",
       "MonthlyIncome                           0.029763  0.078518   \n",
       "\n",
       "                          NumberOfChildrenVisiting  MonthlyIncome  \n",
       "ProdTaken                                 0.007920      -0.128329  \n",
       "Age                                       0.000443       0.457464  \n",
       "CityTier                                  0.000421       0.050779  \n",
       "DurationOfPitch                           0.030541      -0.006004  \n",
       "NumberOfPersonVisiting                    0.606655       0.189798  \n",
       "NumberOfFollowups                         0.285966       0.177480  \n",
       "PreferredPropertyStar                     0.032006       0.000822  \n",
       "NumberOfTrips                             0.160982       0.111509  \n",
       "Passport                                  0.018051       0.002490  \n",
       "PitchSatisfactionScore                   -0.001176       0.029763  \n",
       "OwnCar                                    0.024560       0.078518  \n",
       "NumberOfChildrenVisiting                  1.000000       0.182848  \n",
       "MonthlyIncome                             0.182848       1.000000  "
      ]
     },
     "execution_count": 33,
     "metadata": {},
     "output_type": "execute_result"
    }
   ],
   "source": [
    "data.corr()"
   ]
  },
  {
   "cell_type": "code",
   "execution_count": 125,
   "metadata": {
    "scrolled": true
   },
   "outputs": [
    {
     "data": {
      "text/plain": [
       "<matplotlib.axes._subplots.AxesSubplot at 0x7fb4f6d9dd00>"
      ]
     },
     "execution_count": 125,
     "metadata": {},
     "output_type": "execute_result"
    },
    {
     "data": {
      "image/png": "[encoded data removed]",
      "text/plain": [
       "<Figure size 720x720 with 2 Axes>"
      ]
     },
     "metadata": {
      "needs_background": "light"
     },
     "output_type": "display_data"
    }
   ],
   "source": [
    "plt.subplots(figsize=(10,10))\n",
    "sns.heatmap(data.corr(),cmap='BuGn',annot=True, fmt=\".2f\", vmin=-1, vmax=1, center= 0, square=True, linewidths=.7)"
   ]
  },
  {
   "cell_type": "code",
   "execution_count": 136,
   "metadata": {},
   "outputs": [
    {
     "data": {
      "image/png": "[encoded data removed]",
      "text/plain": [
       "<Figure size 864x360 with 3 Axes>"
      ]
     },
     "metadata": {
      "needs_background": "light"
     },
     "output_type": "display_data"
    }
   ],
   "source": [
    "cols = data[['Age', 'Passport', 'ProductPitched']].columns.tolist()\n",
    "plt.figure(figsize=(12,5))\n",
    "\n",
    "for i, variable in enumerate(cols):\n",
    "                     plt.subplot(1,3,i+1)\n",
    "                     sns.boxplot(data['ProdTaken'],data[variable],palette=\"PuBuGn\")\n",
    "                     plt.tight_layout()\n",
    "                     plt.title(variable)\n",
    "plt.show()"
   ]
  },
  {
   "cell_type": "code",
   "execution_count": 131,
   "metadata": {},
   "outputs": [
    {
     "data": {
      "image/png": "[encoded data removed]",
      "text/plain": [
       "<Figure size 864x360 with 3 Axes>"
      ]
     },
     "metadata": {
      "needs_background": "light"
     },
     "output_type": "display_data"
    }
   ],
   "source": [
    "cols = data[[ 'MonthlyIncome', 'NumberOfFollowups', 'PreferredPropertyStar']].columns.tolist()\n",
    "plt.figure(figsize=(12,5))\n",
    "\n",
    "for i, variable in enumerate(cols):\n",
    "                     plt.subplot(1,3,i+1)\n",
    "                     sns.boxplot(data['ProdTaken'],data[variable],palette=\"PuBu\", showfliers=False)\n",
    "                     plt.tight_layout()\n",
    "                     plt.title(variable)\n",
    "plt.show()"
   ]
  },
  {
   "cell_type": "code",
   "execution_count": 35,
   "metadata": {},
   "outputs": [],
   "source": [
    "replace_dict = {\"ProductPitched\": {\"Basic\": 0, \"Standard\":1, \"Deluxe\": 2, \"Super Deluxe\":3, \"King\":4}}\n",
    "data=data.replace(replace_dict)"
   ]
  },
  {
   "cell_type": "code",
   "execution_count": 139,
   "metadata": {
    "scrolled": true
   },
   "outputs": [
    {
     "data": {
      "text/html": [
       "<div>\n",
       "<style scoped>\n",
       "    .dataframe tbody tr th:only-of-type {\n",
       "        vertical-align: middle;\n",
       "    }\n",
       "\n",
       "    .dataframe tbody tr th {\n",
       "        vertical-align: top;\n",
       "    }\n",
       "\n",
       "    .dataframe thead th {\n",
       "        text-align: right;\n",
       "    }\n",
       "</style>\n",
       "<table border=\"1\" class=\"dataframe\">\n",
       "  <thead>\n",
       "    <tr style=\"text-align: right;\">\n",
       "      <th></th>\n",
       "      <th>ProdTaken</th>\n",
       "      <th>Age</th>\n",
       "      <th>CityTier</th>\n",
       "      <th>DurationOfPitch</th>\n",
       "      <th>NumberOfPersonVisiting</th>\n",
       "      <th>NumberOfFollowups</th>\n",
       "      <th>ProductPitched</th>\n",
       "      <th>PreferredPropertyStar</th>\n",
       "      <th>NumberOfTrips</th>\n",
       "      <th>Passport</th>\n",
       "      <th>PitchSatisfactionScore</th>\n",
       "      <th>OwnCar</th>\n",
       "      <th>NumberOfChildrenVisiting</th>\n",
       "      <th>MonthlyIncome</th>\n",
       "    </tr>\n",
       "  </thead>\n",
       "  <tbody>\n",
       "    <tr>\n",
       "      <th>ProdTaken</th>\n",
       "      <td>1.000000</td>\n",
       "      <td>-0.144572</td>\n",
       "      <td>0.087184</td>\n",
       "      <td>0.076438</td>\n",
       "      <td>0.008915</td>\n",
       "      <td>0.111813</td>\n",
       "      <td>-0.216685</td>\n",
       "      <td>0.098548</td>\n",
       "      <td>0.016980</td>\n",
       "      <td>0.261027</td>\n",
       "      <td>0.051952</td>\n",
       "      <td>-0.012020</td>\n",
       "      <td>0.007920</td>\n",
       "      <td>-0.128329</td>\n",
       "    </tr>\n",
       "    <tr>\n",
       "      <th>Age</th>\n",
       "      <td>-0.144572</td>\n",
       "      <td>1.000000</td>\n",
       "      <td>-0.016546</td>\n",
       "      <td>-0.011309</td>\n",
       "      <td>0.008450</td>\n",
       "      <td>-0.004033</td>\n",
       "      <td>0.417638</td>\n",
       "      <td>-0.017908</td>\n",
       "      <td>0.171557</td>\n",
       "      <td>0.029981</td>\n",
       "      <td>0.017343</td>\n",
       "      <td>0.047625</td>\n",
       "      <td>0.000443</td>\n",
       "      <td>0.457464</td>\n",
       "    </tr>\n",
       "    <tr>\n",
       "      <th>CityTier</th>\n",
       "      <td>0.087184</td>\n",
       "      <td>-0.016546</td>\n",
       "      <td>1.000000</td>\n",
       "      <td>0.022078</td>\n",
       "      <td>-0.002017</td>\n",
       "      <td>0.021707</td>\n",
       "      <td>0.179114</td>\n",
       "      <td>-0.010499</td>\n",
       "      <td>-0.028335</td>\n",
       "      <td>0.001749</td>\n",
       "      <td>-0.041260</td>\n",
       "      <td>0.005196</td>\n",
       "      <td>0.000421</td>\n",
       "      <td>0.050779</td>\n",
       "    </tr>\n",
       "    <tr>\n",
       "      <th>DurationOfPitch</th>\n",
       "      <td>0.076438</td>\n",
       "      <td>-0.011309</td>\n",
       "      <td>0.022078</td>\n",
       "      <td>1.000000</td>\n",
       "      <td>0.063484</td>\n",
       "      <td>0.010445</td>\n",
       "      <td>-0.013087</td>\n",
       "      <td>-0.005937</td>\n",
       "      <td>0.010314</td>\n",
       "      <td>0.032279</td>\n",
       "      <td>-0.002816</td>\n",
       "      <td>-0.001590</td>\n",
       "      <td>0.030541</td>\n",
       "      <td>-0.006004</td>\n",
       "    </tr>\n",
       "    <tr>\n",
       "      <th>NumberOfPersonVisiting</th>\n",
       "      <td>0.008915</td>\n",
       "      <td>0.008450</td>\n",
       "      <td>-0.002017</td>\n",
       "      <td>0.063484</td>\n",
       "      <td>1.000000</td>\n",
       "      <td>0.330185</td>\n",
       "      <td>-0.036192</td>\n",
       "      <td>0.030504</td>\n",
       "      <td>0.189400</td>\n",
       "      <td>0.008551</td>\n",
       "      <td>-0.019195</td>\n",
       "      <td>0.010181</td>\n",
       "      <td>0.606655</td>\n",
       "      <td>0.189798</td>\n",
       "    </tr>\n",
       "    <tr>\n",
       "      <th>NumberOfFollowups</th>\n",
       "      <td>0.111813</td>\n",
       "      <td>-0.004033</td>\n",
       "      <td>0.021707</td>\n",
       "      <td>0.010445</td>\n",
       "      <td>0.330185</td>\n",
       "      <td>1.000000</td>\n",
       "      <td>-0.003247</td>\n",
       "      <td>-0.029291</td>\n",
       "      <td>0.138100</td>\n",
       "      <td>0.004882</td>\n",
       "      <td>0.002942</td>\n",
       "      <td>0.010209</td>\n",
       "      <td>0.285966</td>\n",
       "      <td>0.177480</td>\n",
       "    </tr>\n",
       "    <tr>\n",
       "      <th>ProductPitched</th>\n",
       "      <td>-0.216685</td>\n",
       "      <td>0.417638</td>\n",
       "      <td>0.179114</td>\n",
       "      <td>-0.013087</td>\n",
       "      <td>-0.036192</td>\n",
       "      <td>-0.003247</td>\n",
       "      <td>1.000000</td>\n",
       "      <td>-0.031428</td>\n",
       "      <td>0.051170</td>\n",
       "      <td>-0.026323</td>\n",
       "      <td>0.021194</td>\n",
       "      <td>0.062519</td>\n",
       "      <td>-0.005231</td>\n",
       "      <td>0.643048</td>\n",
       "    </tr>\n",
       "    <tr>\n",
       "      <th>PreferredPropertyStar</th>\n",
       "      <td>0.098548</td>\n",
       "      <td>-0.017908</td>\n",
       "      <td>-0.010499</td>\n",
       "      <td>-0.005937</td>\n",
       "      <td>0.030504</td>\n",
       "      <td>-0.029291</td>\n",
       "      <td>-0.031428</td>\n",
       "      <td>1.000000</td>\n",
       "      <td>0.009914</td>\n",
       "      <td>0.000654</td>\n",
       "      <td>-0.022843</td>\n",
       "      <td>0.013093</td>\n",
       "      <td>0.032006</td>\n",
       "      <td>0.000822</td>\n",
       "    </tr>\n",
       "    <tr>\n",
       "      <th>NumberOfTrips</th>\n",
       "      <td>0.016980</td>\n",
       "      <td>0.171557</td>\n",
       "      <td>-0.028335</td>\n",
       "      <td>0.010314</td>\n",
       "      <td>0.189400</td>\n",
       "      <td>0.138100</td>\n",
       "      <td>0.051170</td>\n",
       "      <td>0.009914</td>\n",
       "      <td>1.000000</td>\n",
       "      <td>0.012412</td>\n",
       "      <td>-0.003925</td>\n",
       "      <td>-0.012832</td>\n",
       "      <td>0.160982</td>\n",
       "      <td>0.111509</td>\n",
       "    </tr>\n",
       "    <tr>\n",
       "      <th>Passport</th>\n",
       "      <td>0.261027</td>\n",
       "      <td>0.029981</td>\n",
       "      <td>0.001749</td>\n",
       "      <td>0.032279</td>\n",
       "      <td>0.008551</td>\n",
       "      <td>0.004882</td>\n",
       "      <td>-0.026323</td>\n",
       "      <td>0.000654</td>\n",
       "      <td>0.012412</td>\n",
       "      <td>1.000000</td>\n",
       "      <td>0.002262</td>\n",
       "      <td>-0.022825</td>\n",
       "      <td>0.018051</td>\n",
       "      <td>0.002490</td>\n",
       "    </tr>\n",
       "    <tr>\n",
       "      <th>PitchSatisfactionScore</th>\n",
       "      <td>0.051952</td>\n",
       "      <td>0.017343</td>\n",
       "      <td>-0.041260</td>\n",
       "      <td>-0.002816</td>\n",
       "      <td>-0.019195</td>\n",
       "      <td>0.002942</td>\n",
       "      <td>0.021194</td>\n",
       "      <td>-0.022843</td>\n",
       "      <td>-0.003925</td>\n",
       "      <td>0.002262</td>\n",
       "      <td>1.000000</td>\n",
       "      <td>0.067562</td>\n",
       "      <td>-0.001176</td>\n",
       "      <td>0.029763</td>\n",
       "    </tr>\n",
       "    <tr>\n",
       "      <th>OwnCar</th>\n",
       "      <td>-0.012020</td>\n",
       "      <td>0.047625</td>\n",
       "      <td>0.005196</td>\n",
       "      <td>-0.001590</td>\n",
       "      <td>0.010181</td>\n",
       "      <td>0.010209</td>\n",
       "      <td>0.062519</td>\n",
       "      <td>0.013093</td>\n",
       "      <td>-0.012832</td>\n",
       "      <td>-0.022825</td>\n",
       "      <td>0.067562</td>\n",
       "      <td>1.000000</td>\n",
       "      <td>0.024560</td>\n",
       "      <td>0.078518</td>\n",
       "    </tr>\n",
       "    <tr>\n",
       "      <th>NumberOfChildrenVisiting</th>\n",
       "      <td>0.007920</td>\n",
       "      <td>0.000443</td>\n",
       "      <td>0.000421</td>\n",
       "      <td>0.030541</td>\n",
       "      <td>0.606655</td>\n",
       "      <td>0.285966</td>\n",
       "      <td>-0.005231</td>\n",
       "      <td>0.032006</td>\n",
       "      <td>0.160982</td>\n",
       "      <td>0.018051</td>\n",
       "      <td>-0.001176</td>\n",
       "      <td>0.024560</td>\n",
       "      <td>1.000000</td>\n",
       "      <td>0.182848</td>\n",
       "    </tr>\n",
       "    <tr>\n",
       "      <th>MonthlyIncome</th>\n",
       "      <td>-0.128329</td>\n",
       "      <td>0.457464</td>\n",
       "      <td>0.050779</td>\n",
       "      <td>-0.006004</td>\n",
       "      <td>0.189798</td>\n",
       "      <td>0.177480</td>\n",
       "      <td>0.643048</td>\n",
       "      <td>0.000822</td>\n",
       "      <td>0.111509</td>\n",
       "      <td>0.002490</td>\n",
       "      <td>0.029763</td>\n",
       "      <td>0.078518</td>\n",
       "      <td>0.182848</td>\n",
       "      <td>1.000000</td>\n",
       "    </tr>\n",
       "  </tbody>\n",
       "</table>\n",
       "</div>"
      ],
      "text/plain": [
       "                          ProdTaken       Age  CityTier  DurationOfPitch  \\\n",
       "ProdTaken                  1.000000 -0.144572  0.087184         0.076438   \n",
       "Age                       -0.144572  1.000000 -0.016546        -0.011309   \n",
       "CityTier                   0.087184 -0.016546  1.000000         0.022078   \n",
       "DurationOfPitch            0.076438 -0.011309  0.022078         1.000000   \n",
       "NumberOfPersonVisiting     0.008915  0.008450 -0.002017         0.063484   \n",
       "NumberOfFollowups          0.111813 -0.004033  0.021707         0.010445   \n",
       "ProductPitched            -0.216685  0.417638  0.179114        -0.013087   \n",
       "PreferredPropertyStar      0.098548 -0.017908 -0.010499        -0.005937   \n",
       "NumberOfTrips              0.016980  0.171557 -0.028335         0.010314   \n",
       "Passport                   0.261027  0.029981  0.001749         0.032279   \n",
       "PitchSatisfactionScore     0.051952  0.017343 -0.041260        -0.002816   \n",
       "OwnCar                    -0.012020  0.047625  0.005196        -0.001590   \n",
       "NumberOfChildrenVisiting   0.007920  0.000443  0.000421         0.030541   \n",
       "MonthlyIncome             -0.128329  0.457464  0.050779        -0.006004   \n",
       "\n",
       "                          NumberOfPersonVisiting  NumberOfFollowups  \\\n",
       "ProdTaken                               0.008915           0.111813   \n",
       "Age                                     0.008450          -0.004033   \n",
       "CityTier                               -0.002017           0.021707   \n",
       "DurationOfPitch                         0.063484           0.010445   \n",
       "NumberOfPersonVisiting                  1.000000           0.330185   \n",
       "NumberOfFollowups                       0.330185           1.000000   \n",
       "ProductPitched                         -0.036192          -0.003247   \n",
       "PreferredPropertyStar                   0.030504          -0.029291   \n",
       "NumberOfTrips                           0.189400           0.138100   \n",
       "Passport                                0.008551           0.004882   \n",
       "PitchSatisfactionScore                 -0.019195           0.002942   \n",
       "OwnCar                                  0.010181           0.010209   \n",
       "NumberOfChildrenVisiting                0.606655           0.285966   \n",
       "MonthlyIncome                           0.189798           0.177480   \n",
       "\n",
       "                          ProductPitched  PreferredPropertyStar  \\\n",
       "ProdTaken                      -0.216685               0.098548   \n",
       "Age                             0.417638              -0.017908   \n",
       "CityTier                        0.179114              -0.010499   \n",
       "DurationOfPitch                -0.013087              -0.005937   \n",
       "NumberOfPersonVisiting         -0.036192               0.030504   \n",
       "NumberOfFollowups              -0.003247              -0.029291   \n",
       "ProductPitched                  1.000000              -0.031428   \n",
       "PreferredPropertyStar          -0.031428               1.000000   \n",
       "NumberOfTrips                   0.051170               0.009914   \n",
       "Passport                       -0.026323               0.000654   \n",
       "PitchSatisfactionScore          0.021194              -0.022843   \n",
       "OwnCar                          0.062519               0.013093   \n",
       "NumberOfChildrenVisiting       -0.005231               0.032006   \n",
       "MonthlyIncome                   0.643048               0.000822   \n",
       "\n",
       "                          NumberOfTrips  Passport  PitchSatisfactionScore  \\\n",
       "ProdTaken                      0.016980  0.261027                0.051952   \n",
       "Age                            0.171557  0.029981                0.017343   \n",
       "CityTier                      -0.028335  0.001749               -0.041260   \n",
       "DurationOfPitch                0.010314  0.032279               -0.002816   \n",
       "NumberOfPersonVisiting         0.189400  0.008551               -0.019195   \n",
       "NumberOfFollowups              0.138100  0.004882                0.002942   \n",
       "ProductPitched                 0.051170 -0.026323                0.021194   \n",
       "PreferredPropertyStar          0.009914  0.000654               -0.022843   \n",
       "NumberOfTrips                  1.000000  0.012412               -0.003925   \n",
       "Passport                       0.012412  1.000000                0.002262   \n",
       "PitchSatisfactionScore        -0.003925  0.002262                1.000000   \n",
       "OwnCar                        -0.012832 -0.022825                0.067562   \n",
       "NumberOfChildrenVisiting       0.160982  0.018051               -0.001176   \n",
       "MonthlyIncome                  0.111509  0.002490                0.029763   \n",
       "\n",
       "                            OwnCar  NumberOfChildrenVisiting  MonthlyIncome  \n",
       "ProdTaken                -0.012020                  0.007920      -0.128329  \n",
       "Age                       0.047625                  0.000443       0.457464  \n",
       "CityTier                  0.005196                  0.000421       0.050779  \n",
       "DurationOfPitch          -0.001590                  0.030541      -0.006004  \n",
       "NumberOfPersonVisiting    0.010181                  0.606655       0.189798  \n",
       "NumberOfFollowups         0.010209                  0.285966       0.177480  \n",
       "ProductPitched            0.062519                 -0.005231       0.643048  \n",
       "PreferredPropertyStar     0.013093                  0.032006       0.000822  \n",
       "NumberOfTrips            -0.012832                  0.160982       0.111509  \n",
       "Passport                 -0.022825                  0.018051       0.002490  \n",
       "PitchSatisfactionScore    0.067562                 -0.001176       0.029763  \n",
       "OwnCar                    1.000000                  0.024560       0.078518  \n",
       "NumberOfChildrenVisiting  0.024560                  1.000000       0.182848  \n",
       "MonthlyIncome             0.078518                  0.182848       1.000000  "
      ]
     },
     "execution_count": 139,
     "metadata": {},
     "output_type": "execute_result"
    }
   ],
   "source": [
    "data.corr()"
   ]
  },
  {
   "cell_type": "code",
   "execution_count": 145,
   "metadata": {},
   "outputs": [
    {
     "data": {
      "image/png": "[encoded data removed]",
      "text/plain": [
       "<Figure size 864x360 with 5 Axes>"
      ]
     },
     "metadata": {
      "needs_background": "light"
     },
     "output_type": "display_data"
    }
   ],
   "source": [
    "cols = data[[ 'MonthlyIncome', 'Age', 'Passport', 'ProdTaken', 'OwnCar']].columns.tolist()\n",
    "plt.figure(figsize=(12,5))\n",
    "\n",
    "for i, variable in enumerate(cols):\n",
    "                     plt.subplot(1,5,i+1)\n",
    "                     sns.boxplot(data['ProductPitched'],data[variable],palette=\"PuBu\", showfliers=False)\n",
    "                     plt.tight_layout()\n",
    "                     plt.title(variable)\n",
    "plt.show()"
   ]
  },
  {
   "cell_type": "markdown",
   "metadata": {},
   "source": [
    "#### Insights from bivariate analysis\n",
    "- Product Taken correlates the highest with Passport (r = 0.26) and moderately correlates with age and income\n",
    "- Number of People Visiting correlates highly with Number of Children visiting (r = 0.61)\n",
    "- Number of people taking the product increases as monthly income decreases\n",
    "- as the number of followups increase, so does the number of people that the that took the product\n",
    "- more people took a lower package \n",
    "- people that had passports took the product more\n",
    "\n",
    "\n",
    "- more deluxe packages were offered people for a higher monthly income and older in age:\n",
    "    - basic packages were offered to customers between late 20s-late 30s with a monthly income between 15500-21000\n",
    "    - standard packages were given to customers between late 30s and mid 40s with a monthly income between 25000-30000\n",
    "    - deluxe packges were given to customers between mid 30s-mid 40s with a monthly income between 20000-25000\n",
    "    - super deluxe packages were given to people between early 40s-mid 50s with a monthly income between 30000-35000\n",
    "    - King packages were goven to people between mid 40s-mid 50s with a monthly income between 34500-3750 "
   ]
  },
  {
   "cell_type": "markdown",
   "metadata": {},
   "source": [
    "#### One Hot Encoding \n",
    "- lets look at relationships between categorical data\n"
   ]
  },
  {
   "cell_type": "code",
   "execution_count": 36,
   "metadata": {},
   "outputs": [],
   "source": [
    "\n",
    "\n",
    "data_2 = pd.get_dummies(data, columns=[\"TypeofContact\", \"Occupation\", \"Gender\", \n",
    "                                       \"MaritalStatus\", \"Designation\"], drop_first=True)"
   ]
  },
  {
   "cell_type": "code",
   "execution_count": 37,
   "metadata": {},
   "outputs": [
    {
     "data": {
      "text/html": [
       "<div>\n",
       "<style scoped>\n",
       "    .dataframe tbody tr th:only-of-type {\n",
       "        vertical-align: middle;\n",
       "    }\n",
       "\n",
       "    .dataframe tbody tr th {\n",
       "        vertical-align: top;\n",
       "    }\n",
       "\n",
       "    .dataframe thead th {\n",
       "        text-align: right;\n",
       "    }\n",
       "</style>\n",
       "<table border=\"1\" class=\"dataframe\">\n",
       "  <thead>\n",
       "    <tr style=\"text-align: right;\">\n",
       "      <th></th>\n",
       "      <th>ProdTaken</th>\n",
       "      <th>Age</th>\n",
       "      <th>CityTier</th>\n",
       "      <th>DurationOfPitch</th>\n",
       "      <th>NumberOfPersonVisiting</th>\n",
       "      <th>NumberOfFollowups</th>\n",
       "      <th>ProductPitched</th>\n",
       "      <th>PreferredPropertyStar</th>\n",
       "      <th>NumberOfTrips</th>\n",
       "      <th>Passport</th>\n",
       "      <th>...</th>\n",
       "      <th>Occupation_Salaried</th>\n",
       "      <th>Occupation_Small Business</th>\n",
       "      <th>Gender_Male</th>\n",
       "      <th>MaritalStatus_Married</th>\n",
       "      <th>MaritalStatus_Single</th>\n",
       "      <th>MaritalStatus_Unmarried</th>\n",
       "      <th>Designation_Executive</th>\n",
       "      <th>Designation_Manager</th>\n",
       "      <th>Designation_Senior Manager</th>\n",
       "      <th>Designation_VP</th>\n",
       "    </tr>\n",
       "  </thead>\n",
       "  <tbody>\n",
       "    <tr>\n",
       "      <th>0</th>\n",
       "      <td>1</td>\n",
       "      <td>41.000000</td>\n",
       "      <td>3</td>\n",
       "      <td>6.0</td>\n",
       "      <td>3</td>\n",
       "      <td>3.0</td>\n",
       "      <td>2</td>\n",
       "      <td>3.0</td>\n",
       "      <td>1.0</td>\n",
       "      <td>1</td>\n",
       "      <td>...</td>\n",
       "      <td>1</td>\n",
       "      <td>0</td>\n",
       "      <td>0</td>\n",
       "      <td>0</td>\n",
       "      <td>1</td>\n",
       "      <td>0</td>\n",
       "      <td>0</td>\n",
       "      <td>1</td>\n",
       "      <td>0</td>\n",
       "      <td>0</td>\n",
       "    </tr>\n",
       "    <tr>\n",
       "      <th>1</th>\n",
       "      <td>0</td>\n",
       "      <td>49.000000</td>\n",
       "      <td>1</td>\n",
       "      <td>14.0</td>\n",
       "      <td>3</td>\n",
       "      <td>4.0</td>\n",
       "      <td>2</td>\n",
       "      <td>4.0</td>\n",
       "      <td>2.0</td>\n",
       "      <td>0</td>\n",
       "      <td>...</td>\n",
       "      <td>1</td>\n",
       "      <td>0</td>\n",
       "      <td>1</td>\n",
       "      <td>0</td>\n",
       "      <td>0</td>\n",
       "      <td>0</td>\n",
       "      <td>0</td>\n",
       "      <td>1</td>\n",
       "      <td>0</td>\n",
       "      <td>0</td>\n",
       "    </tr>\n",
       "    <tr>\n",
       "      <th>2</th>\n",
       "      <td>1</td>\n",
       "      <td>37.000000</td>\n",
       "      <td>1</td>\n",
       "      <td>8.0</td>\n",
       "      <td>3</td>\n",
       "      <td>4.0</td>\n",
       "      <td>0</td>\n",
       "      <td>3.0</td>\n",
       "      <td>7.0</td>\n",
       "      <td>1</td>\n",
       "      <td>...</td>\n",
       "      <td>0</td>\n",
       "      <td>0</td>\n",
       "      <td>1</td>\n",
       "      <td>0</td>\n",
       "      <td>1</td>\n",
       "      <td>0</td>\n",
       "      <td>1</td>\n",
       "      <td>0</td>\n",
       "      <td>0</td>\n",
       "      <td>0</td>\n",
       "    </tr>\n",
       "    <tr>\n",
       "      <th>3</th>\n",
       "      <td>0</td>\n",
       "      <td>33.000000</td>\n",
       "      <td>1</td>\n",
       "      <td>9.0</td>\n",
       "      <td>2</td>\n",
       "      <td>3.0</td>\n",
       "      <td>0</td>\n",
       "      <td>3.0</td>\n",
       "      <td>2.0</td>\n",
       "      <td>1</td>\n",
       "      <td>...</td>\n",
       "      <td>1</td>\n",
       "      <td>0</td>\n",
       "      <td>0</td>\n",
       "      <td>0</td>\n",
       "      <td>0</td>\n",
       "      <td>0</td>\n",
       "      <td>1</td>\n",
       "      <td>0</td>\n",
       "      <td>0</td>\n",
       "      <td>0</td>\n",
       "    </tr>\n",
       "    <tr>\n",
       "      <th>4</th>\n",
       "      <td>0</td>\n",
       "      <td>37.622265</td>\n",
       "      <td>1</td>\n",
       "      <td>8.0</td>\n",
       "      <td>2</td>\n",
       "      <td>3.0</td>\n",
       "      <td>0</td>\n",
       "      <td>4.0</td>\n",
       "      <td>1.0</td>\n",
       "      <td>0</td>\n",
       "      <td>...</td>\n",
       "      <td>0</td>\n",
       "      <td>1</td>\n",
       "      <td>1</td>\n",
       "      <td>0</td>\n",
       "      <td>0</td>\n",
       "      <td>0</td>\n",
       "      <td>1</td>\n",
       "      <td>0</td>\n",
       "      <td>0</td>\n",
       "      <td>0</td>\n",
       "    </tr>\n",
       "    <tr>\n",
       "      <th>...</th>\n",
       "      <td>...</td>\n",
       "      <td>...</td>\n",
       "      <td>...</td>\n",
       "      <td>...</td>\n",
       "      <td>...</td>\n",
       "      <td>...</td>\n",
       "      <td>...</td>\n",
       "      <td>...</td>\n",
       "      <td>...</td>\n",
       "      <td>...</td>\n",
       "      <td>...</td>\n",
       "      <td>...</td>\n",
       "      <td>...</td>\n",
       "      <td>...</td>\n",
       "      <td>...</td>\n",
       "      <td>...</td>\n",
       "      <td>...</td>\n",
       "      <td>...</td>\n",
       "      <td>...</td>\n",
       "      <td>...</td>\n",
       "      <td>...</td>\n",
       "    </tr>\n",
       "    <tr>\n",
       "      <th>4883</th>\n",
       "      <td>1</td>\n",
       "      <td>49.000000</td>\n",
       "      <td>3</td>\n",
       "      <td>9.0</td>\n",
       "      <td>3</td>\n",
       "      <td>5.0</td>\n",
       "      <td>2</td>\n",
       "      <td>4.0</td>\n",
       "      <td>2.0</td>\n",
       "      <td>1</td>\n",
       "      <td>...</td>\n",
       "      <td>0</td>\n",
       "      <td>1</td>\n",
       "      <td>1</td>\n",
       "      <td>0</td>\n",
       "      <td>0</td>\n",
       "      <td>1</td>\n",
       "      <td>0</td>\n",
       "      <td>1</td>\n",
       "      <td>0</td>\n",
       "      <td>0</td>\n",
       "    </tr>\n",
       "    <tr>\n",
       "      <th>4884</th>\n",
       "      <td>1</td>\n",
       "      <td>28.000000</td>\n",
       "      <td>1</td>\n",
       "      <td>31.0</td>\n",
       "      <td>4</td>\n",
       "      <td>5.0</td>\n",
       "      <td>0</td>\n",
       "      <td>3.0</td>\n",
       "      <td>3.0</td>\n",
       "      <td>1</td>\n",
       "      <td>...</td>\n",
       "      <td>1</td>\n",
       "      <td>0</td>\n",
       "      <td>1</td>\n",
       "      <td>0</td>\n",
       "      <td>1</td>\n",
       "      <td>0</td>\n",
       "      <td>1</td>\n",
       "      <td>0</td>\n",
       "      <td>0</td>\n",
       "      <td>0</td>\n",
       "    </tr>\n",
       "    <tr>\n",
       "      <th>4885</th>\n",
       "      <td>1</td>\n",
       "      <td>52.000000</td>\n",
       "      <td>3</td>\n",
       "      <td>17.0</td>\n",
       "      <td>4</td>\n",
       "      <td>4.0</td>\n",
       "      <td>1</td>\n",
       "      <td>4.0</td>\n",
       "      <td>7.0</td>\n",
       "      <td>0</td>\n",
       "      <td>...</td>\n",
       "      <td>1</td>\n",
       "      <td>0</td>\n",
       "      <td>0</td>\n",
       "      <td>1</td>\n",
       "      <td>0</td>\n",
       "      <td>0</td>\n",
       "      <td>0</td>\n",
       "      <td>0</td>\n",
       "      <td>1</td>\n",
       "      <td>0</td>\n",
       "    </tr>\n",
       "    <tr>\n",
       "      <th>4886</th>\n",
       "      <td>1</td>\n",
       "      <td>19.000000</td>\n",
       "      <td>3</td>\n",
       "      <td>16.0</td>\n",
       "      <td>3</td>\n",
       "      <td>4.0</td>\n",
       "      <td>0</td>\n",
       "      <td>3.0</td>\n",
       "      <td>3.0</td>\n",
       "      <td>0</td>\n",
       "      <td>...</td>\n",
       "      <td>0</td>\n",
       "      <td>1</td>\n",
       "      <td>1</td>\n",
       "      <td>0</td>\n",
       "      <td>1</td>\n",
       "      <td>0</td>\n",
       "      <td>1</td>\n",
       "      <td>0</td>\n",
       "      <td>0</td>\n",
       "      <td>0</td>\n",
       "    </tr>\n",
       "    <tr>\n",
       "      <th>4887</th>\n",
       "      <td>1</td>\n",
       "      <td>36.000000</td>\n",
       "      <td>1</td>\n",
       "      <td>14.0</td>\n",
       "      <td>4</td>\n",
       "      <td>4.0</td>\n",
       "      <td>0</td>\n",
       "      <td>4.0</td>\n",
       "      <td>3.0</td>\n",
       "      <td>1</td>\n",
       "      <td>...</td>\n",
       "      <td>1</td>\n",
       "      <td>0</td>\n",
       "      <td>1</td>\n",
       "      <td>0</td>\n",
       "      <td>0</td>\n",
       "      <td>1</td>\n",
       "      <td>1</td>\n",
       "      <td>0</td>\n",
       "      <td>0</td>\n",
       "      <td>0</td>\n",
       "    </tr>\n",
       "  </tbody>\n",
       "</table>\n",
       "<p>4863 rows × 26 columns</p>\n",
       "</div>"
      ],
      "text/plain": [
       "      ProdTaken        Age  CityTier  DurationOfPitch  NumberOfPersonVisiting  \\\n",
       "0             1  41.000000         3              6.0                       3   \n",
       "1             0  49.000000         1             14.0                       3   \n",
       "2             1  37.000000         1              8.0                       3   \n",
       "3             0  33.000000         1              9.0                       2   \n",
       "4             0  37.622265         1              8.0                       2   \n",
       "...         ...        ...       ...              ...                     ...   \n",
       "4883          1  49.000000         3              9.0                       3   \n",
       "4884          1  28.000000         1             31.0                       4   \n",
       "4885          1  52.000000         3             17.0                       4   \n",
       "4886          1  19.000000         3             16.0                       3   \n",
       "4887          1  36.000000         1             14.0                       4   \n",
       "\n",
       "      NumberOfFollowups  ProductPitched  PreferredPropertyStar  NumberOfTrips  \\\n",
       "0                   3.0               2                    3.0            1.0   \n",
       "1                   4.0               2                    4.0            2.0   \n",
       "2                   4.0               0                    3.0            7.0   \n",
       "3                   3.0               0                    3.0            2.0   \n",
       "4                   3.0               0                    4.0            1.0   \n",
       "...                 ...             ...                    ...            ...   \n",
       "4883                5.0               2                    4.0            2.0   \n",
       "4884                5.0               0                    3.0            3.0   \n",
       "4885                4.0               1                    4.0            7.0   \n",
       "4886                4.0               0                    3.0            3.0   \n",
       "4887                4.0               0                    4.0            3.0   \n",
       "\n",
       "      Passport  ...  Occupation_Salaried  Occupation_Small Business  \\\n",
       "0            1  ...                    1                          0   \n",
       "1            0  ...                    1                          0   \n",
       "2            1  ...                    0                          0   \n",
       "3            1  ...                    1                          0   \n",
       "4            0  ...                    0                          1   \n",
       "...        ...  ...                  ...                        ...   \n",
       "4883         1  ...                    0                          1   \n",
       "4884         1  ...                    1                          0   \n",
       "4885         0  ...                    1                          0   \n",
       "4886         0  ...                    0                          1   \n",
       "4887         1  ...                    1                          0   \n",
       "\n",
       "      Gender_Male  MaritalStatus_Married  MaritalStatus_Single  \\\n",
       "0               0                      0                     1   \n",
       "1               1                      0                     0   \n",
       "2               1                      0                     1   \n",
       "3               0                      0                     0   \n",
       "4               1                      0                     0   \n",
       "...           ...                    ...                   ...   \n",
       "4883            1                      0                     0   \n",
       "4884            1                      0                     1   \n",
       "4885            0                      1                     0   \n",
       "4886            1                      0                     1   \n",
       "4887            1                      0                     0   \n",
       "\n",
       "      MaritalStatus_Unmarried  Designation_Executive  Designation_Manager  \\\n",
       "0                           0                      0                    1   \n",
       "1                           0                      0                    1   \n",
       "2                           0                      1                    0   \n",
       "3                           0                      1                    0   \n",
       "4                           0                      1                    0   \n",
       "...                       ...                    ...                  ...   \n",
       "4883                        1                      0                    1   \n",
       "4884                        0                      1                    0   \n",
       "4885                        0                      0                    0   \n",
       "4886                        0                      1                    0   \n",
       "4887                        1                      1                    0   \n",
       "\n",
       "      Designation_Senior Manager  Designation_VP  \n",
       "0                              0               0  \n",
       "1                              0               0  \n",
       "2                              0               0  \n",
       "3                              0               0  \n",
       "4                              0               0  \n",
       "...                          ...             ...  \n",
       "4883                           0               0  \n",
       "4884                           0               0  \n",
       "4885                           1               0  \n",
       "4886                           0               0  \n",
       "4887                           0               0  \n",
       "\n",
       "[4863 rows x 26 columns]"
      ]
     },
     "execution_count": 37,
     "metadata": {},
     "output_type": "execute_result"
    }
   ],
   "source": [
    "data_2"
   ]
  },
  {
   "cell_type": "code",
   "execution_count": 38,
   "metadata": {},
   "outputs": [
    {
     "name": "stdout",
     "output_type": "stream",
     "text": [
      "<class 'pandas.core.frame.DataFrame'>\n",
      "Int64Index: 4863 entries, 0 to 4887\n",
      "Data columns (total 26 columns):\n",
      " #   Column                      Non-Null Count  Dtype  \n",
      "---  ------                      --------------  -----  \n",
      " 0   ProdTaken                   4863 non-null   int64  \n",
      " 1   Age                         4863 non-null   float64\n",
      " 2   CityTier                    4863 non-null   int64  \n",
      " 3   DurationOfPitch             4863 non-null   float64\n",
      " 4   NumberOfPersonVisiting      4863 non-null   int64  \n",
      " 5   NumberOfFollowups           4863 non-null   float64\n",
      " 6   ProductPitched              4863 non-null   int64  \n",
      " 7   PreferredPropertyStar       4863 non-null   float64\n",
      " 8   NumberOfTrips               4863 non-null   float64\n",
      " 9   Passport                    4863 non-null   int64  \n",
      " 10  PitchSatisfactionScore      4863 non-null   int64  \n",
      " 11  OwnCar                      4863 non-null   int64  \n",
      " 12  NumberOfChildrenVisiting    4863 non-null   float64\n",
      " 13  MonthlyIncome               4863 non-null   float64\n",
      " 14  TypeofContact_Self Enquiry  4863 non-null   uint8  \n",
      " 15  Occupation_Large Business   4863 non-null   uint8  \n",
      " 16  Occupation_Salaried         4863 non-null   uint8  \n",
      " 17  Occupation_Small Business   4863 non-null   uint8  \n",
      " 18  Gender_Male                 4863 non-null   uint8  \n",
      " 19  MaritalStatus_Married       4863 non-null   uint8  \n",
      " 20  MaritalStatus_Single        4863 non-null   uint8  \n",
      " 21  MaritalStatus_Unmarried     4863 non-null   uint8  \n",
      " 22  Designation_Executive       4863 non-null   uint8  \n",
      " 23  Designation_Manager         4863 non-null   uint8  \n",
      " 24  Designation_Senior Manager  4863 non-null   uint8  \n",
      " 25  Designation_VP              4863 non-null   uint8  \n",
      "dtypes: float64(7), int64(7), uint8(12)\n",
      "memory usage: 626.9 KB\n"
     ]
    }
   ],
   "source": [
    "data_2.info()"
   ]
  },
  {
   "cell_type": "markdown",
   "metadata": {},
   "source": [
    "#### Insights from OneHotEncoding\n",
    "- there are now 26 columns "
   ]
  },
  {
   "cell_type": "markdown",
   "metadata": {},
   "source": [
    "### Split the data"
   ]
  },
  {
   "cell_type": "code",
   "execution_count": 39,
   "metadata": {},
   "outputs": [],
   "source": [
    "X = data_2.drop(\"ProdTaken\", axis=1)\n",
    "y = data[\"ProdTaken\"]"
   ]
  },
  {
   "cell_type": "code",
   "execution_count": 40,
   "metadata": {},
   "outputs": [],
   "source": [
    "X_train, X_test, y_train, y_test = train_test_split(X, y, test_size=.30, random_state=3,stratify=y)"
   ]
  },
  {
   "cell_type": "code",
   "execution_count": 41,
   "metadata": {},
   "outputs": [],
   "source": [
    "# To get diferent metric scores\n",
    "from sklearn import metrics\n",
    "from sklearn.metrics import accuracy_score, recall_score, precision_score, roc_auc_score, roc_curve, confusion_matrix, precision_recall_curve\n",
    "from sklearn.model_selection import GridSearchCV\n",
    "\n",
    "def scores(model, X_train, y_train, X_test, y_test, flag = True):\n",
    "    \n",
    "    score_list = []\n",
    "    \n",
    "    pred_train = model.predict(X_train)\n",
    "    pred_test = model.predict(X_test)\n",
    "\n",
    "    train_acc = accuracy_score(pred_train,y_train)\n",
    "    test_acc = accuracy_score(pred_test,y_test)\n",
    "\n",
    "    train_recall = recall_score(y_train,pred_train)\n",
    "    test_recall = recall_score(y_test,pred_test)\n",
    "\n",
    "    train_precision = precision_score(y_train,pred_train)\n",
    "    test_precision = precision_score(y_test,pred_test)\n",
    "    \n",
    "    score_list.extend((train_acc,test_acc,train_recall,test_recall,train_precision,test_precision))\n",
    "    \n",
    "    if flag ==True: \n",
    "        print(\"Accuracy on training set : \",accuracy_score(pred_train,y_train))\n",
    "        print(\"Accuracy on test set : \",accuracy_score(pred_test,y_test), \"\\n\")\n",
    "        print(\"Recall on training set : \",recall_score(y_train,pred_train))\n",
    "        print(\"Recall on test set : \",recall_score(y_test,pred_test), \"\\n\")\n",
    "        print(\"Precision on training set : \",precision_score(y_train,pred_train))\n",
    "        print(\"Precision on test set : \",precision_score(y_test,pred_test))\n",
    "    return score_list"
   ]
  },
  {
   "cell_type": "code",
   "execution_count": 42,
   "metadata": {},
   "outputs": [],
   "source": [
    "## Function to create confusion matrix\n",
    "def make_confusion_matrix(model,y_actual,labels=[1, 0]):\n",
    "    '''\n",
    "    model : classifier to predict values of X\n",
    "    y_actual : ground truth  \n",
    "    \n",
    "    '''\n",
    "    y_predict = model.predict(X_test)\n",
    "    cm=metrics.confusion_matrix( y_actual, y_predict, labels=[0, 1])\n",
    "    df_cm = pd.DataFrame(cm, index = [i for i in [\"Actual - No\",\"Actual - Yes\"]],\n",
    "                  columns = [i for i in ['Predicted - No','Predicted - Yes']])\n",
    "    group_counts = [\"{0:0.0f}\".format(value) for value in\n",
    "                cm.flatten()]\n",
    "    group_percentages = [\"{0:.2%}\".format(value) for value in\n",
    "                         cm.flatten()/np.sum(cm)]\n",
    "    labels = [f\"{v1}\\n{v2}\" for v1, v2 in\n",
    "              zip(group_counts,group_percentages)]\n",
    "    labels = np.asarray(labels).reshape(2,2)\n",
    "    plt.figure(figsize = (10,7))\n",
    "    sns.heatmap(df_cm, annot=labels,fmt='')\n",
    "    plt.ylabel('True label')\n",
    "    plt.xlabel('Predicted label')"
   ]
  },
  {
   "cell_type": "markdown",
   "metadata": {},
   "source": [
    "### Bagging Classifier"
   ]
  },
  {
   "cell_type": "code",
   "execution_count": 43,
   "metadata": {},
   "outputs": [
    {
     "data": {
      "text/plain": [
       "BaggingClassifier(random_state=3)"
      ]
     },
     "execution_count": 43,
     "metadata": {},
     "output_type": "execute_result"
    }
   ],
   "source": [
    "#base_estimator for bagging classifier is a decision tree by default\n",
    "bagging_estimator=BaggingClassifier(random_state=3)\n",
    "bagging_estimator.fit(X_train,y_train)"
   ]
  },
  {
   "cell_type": "code",
   "execution_count": 44,
   "metadata": {},
   "outputs": [
    {
     "name": "stdout",
     "output_type": "stream",
     "text": [
      "Accuracy on training set :  0.9944183313748531\n",
      "Accuracy on test set :  0.9054146675805346 \n",
      "\n",
      "Recall on training set :  0.9735202492211839\n",
      "Recall on test set :  0.6036363636363636 \n",
      "\n",
      "Precision on training set :  0.9968102073365231\n",
      "Precision on test set :  0.8512820512820513\n"
     ]
    }
   ],
   "source": [
    "#Using above defined function to get accuracy, recall and precision on train and test set\n",
    "bagging_estimator_score=scores(bagging_estimator, X_train, y_train, X_test, y_test )"
   ]
  },
  {
   "cell_type": "code",
   "execution_count": 45,
   "metadata": {
    "scrolled": true
   },
   "outputs": [
    {
     "data": {
      "image/png": "[encoded data removed]",
      "text/plain": [
       "<Figure size 720x504 with 2 Axes>"
      ]
     },
     "metadata": {
      "needs_background": "light"
     },
     "output_type": "display_data"
    }
   ],
   "source": [
    "make_confusion_matrix(bagging_estimator,y_test)"
   ]
  },
  {
   "cell_type": "markdown",
   "metadata": {},
   "source": [
    "#### Insights on first bagging \n",
    "- precision and accuracy look great \n",
    "- recall could be improved"
   ]
  },
  {
   "cell_type": "code",
   "execution_count": 46,
   "metadata": {},
   "outputs": [
    {
     "data": {
      "text/plain": [
       "BaggingClassifier(max_features=0.9, max_samples=0.9, n_estimators=50,\n",
       "                  random_state=1)"
      ]
     },
     "execution_count": 46,
     "metadata": {},
     "output_type": "execute_result"
    }
   ],
   "source": [
    "#### Tuning the hyperparameters \n",
    "\n",
    "# Choose the type of classifier. \n",
    "bagging_estimator_tuned = BaggingClassifier(random_state=1)\n",
    "\n",
    "# Grid of parameters to choose from\n",
    "## add from article\n",
    "parameters = {'max_samples': [0.7,0.8,0.9,1], \n",
    "              'max_features': [0.7,0.8,0.9,1],\n",
    "              'n_estimators' : [10,20,30,40,50],\n",
    "             }\n",
    "\n",
    "# Type of scoring used to compare parameter combinations\n",
    "acc_scorer = metrics.make_scorer(metrics.recall_score)\n",
    "\n",
    "# Run the grid search\n",
    "grid_obj = GridSearchCV(bagging_estimator_tuned, parameters, scoring=acc_scorer,cv=5)\n",
    "grid_obj = grid_obj.fit(X_train, y_train)\n",
    "\n",
    "# Set the clf to the best combination of parameters\n",
    "bagging_estimator_tuned = grid_obj.best_estimator_\n",
    "\n",
    "# Fit the best algorithm to the data.\n",
    "bagging_estimator_tuned.fit(X_train, y_train)"
   ]
  },
  {
   "cell_type": "code",
   "execution_count": 47,
   "metadata": {},
   "outputs": [
    {
     "name": "stdout",
     "output_type": "stream",
     "text": [
      "Accuracy on training set :  0.9991186839012925\n",
      "Accuracy on test set :  0.9184372858122002 \n",
      "\n",
      "Recall on training set :  0.9953271028037384\n",
      "Recall on test set :  0.6218181818181818 \n",
      "\n",
      "Precision on training set :  1.0\n",
      "Precision on test set :  0.9193548387096774\n"
     ]
    }
   ],
   "source": [
    "#Using above defined function to get accuracy, recall and precision on train and test set\n",
    "bagging_estimator_tuned_score=scores(bagging_estimator_tuned, X_train, y_train, X_test, y_test)"
   ]
  },
  {
   "cell_type": "code",
   "execution_count": 48,
   "metadata": {},
   "outputs": [
    {
     "data": {
      "image/png": "[encoded data removed]",
      "text/plain": [
       "<Figure size 720x504 with 2 Axes>"
      ]
     },
     "metadata": {
      "needs_background": "light"
     },
     "output_type": "display_data"
    }
   ],
   "source": [
    "make_confusion_matrix(bagging_estimator_tuned,y_test)"
   ]
  },
  {
   "cell_type": "markdown",
   "metadata": {},
   "source": [
    "#### Insights on tuned hyperparameters \n",
    "\n",
    "- the training data has been overfit \n",
    "- recall has increased \n",
    "- precision and accuracy have decreased slightly "
   ]
  },
  {
   "cell_type": "code",
   "execution_count": 147,
   "metadata": {},
   "outputs": [
    {
     "data": {
      "text/plain": [
       "DecisionTreeClassifier(random_state=1)"
      ]
     },
     "execution_count": 147,
     "metadata": {},
     "output_type": "execute_result"
    }
   ],
   "source": [
    "#Fitting the model with a decision tree\n",
    "d_tree = DecisionTreeClassifier(random_state=1)\n",
    "d_tree.fit(X_train,y_train)"
   ]
  },
  {
   "cell_type": "code",
   "execution_count": 156,
   "metadata": {},
   "outputs": [
    {
     "name": "stdout",
     "output_type": "stream",
     "text": [
      "Accuracy on training set :  1.0\n",
      "Accuracy on test set :  0.8951336531871145 \n",
      "\n",
      "Recall on training set :  1.0\n",
      "Recall on test set :  0.6872727272727273 \n",
      "\n",
      "Precision on training set :  1.0\n",
      "Precision on test set :  0.73828125\n"
     ]
    }
   ],
   "source": [
    "#Calculating different metrics\n",
    "dtree = scores(d_tree, X_train, y_train, X_test, y_test)"
   ]
  },
  {
   "cell_type": "code",
   "execution_count": 150,
   "metadata": {},
   "outputs": [
    {
     "data": {
      "image/png": "[encoded data removed]",
      "text/plain": [
       "<Figure size 720x504 with 2 Axes>"
      ]
     },
     "metadata": {
      "needs_background": "light"
     },
     "output_type": "display_data"
    }
   ],
   "source": [
    "#Creating confusion matrix\n",
    "make_confusion_matrix(d_tree,y_test)"
   ]
  },
  {
   "cell_type": "markdown",
   "metadata": {},
   "source": [
    "#### Insights from decsion tree\n",
    "-the train model is overfit, the hyperparameters need to tbe tuned"
   ]
  },
  {
   "cell_type": "code",
   "execution_count": 152,
   "metadata": {},
   "outputs": [
    {
     "data": {
      "text/plain": [
       "DecisionTreeClassifier(class_weight={0: 0.18, 1: 0.72}, max_depth=6,\n",
       "                       max_leaf_nodes=15, min_impurity_decrease=0.0001,\n",
       "                       random_state=1)"
      ]
     },
     "execution_count": 152,
     "metadata": {},
     "output_type": "execute_result"
    }
   ],
   "source": [
    "#Tune the decision tree\n",
    "dtree_estimator = DecisionTreeClassifier(class_weight={0:0.18,1:0.72},random_state=1)\n",
    "\n",
    "# Grid of parameters to choose from\n",
    "parameters = {'max_depth': np.arange(2,30), \n",
    "              'min_samples_leaf': [1, 2, 5, 7, 10],\n",
    "              'max_leaf_nodes' : [2, 3, 5, 10,15],\n",
    "              'min_impurity_decrease': [0.0001,0.001,0.01,0.1]\n",
    "             }\n",
    "\n",
    "# Type of scoring used to compare parameter combinations\n",
    "scorer = metrics.make_scorer(metrics.f1_score)\n",
    "\n",
    "# Run the grid search\n",
    "grid_obj = GridSearchCV(dtree_estimator, parameters, scoring=scorer,n_jobs=-1)\n",
    "grid_obj = grid_obj.fit(X_train, y_train)\n",
    "\n",
    "# Set the clf to the best combination of parameters\n",
    "dtree_estimator = grid_obj.best_estimator_\n",
    "\n",
    "# Fit the best algorithm to the data. \n",
    "dtree_estimator.fit(X_train, y_train)"
   ]
  },
  {
   "cell_type": "code",
   "execution_count": 154,
   "metadata": {},
   "outputs": [
    {
     "name": "stdout",
     "output_type": "stream",
     "text": [
      "Accuracy on training set :  0.7441245593419507\n",
      "Accuracy on test set :  0.6997943797121315 \n",
      "\n",
      "Recall on training set :  0.764797507788162\n",
      "Recall on test set :  0.7054545454545454 \n",
      "\n",
      "Precision on training set :  0.40545004128819156\n",
      "Precision on test set :  0.35208711433756806\n"
     ]
    }
   ],
   "source": [
    "dtree_tuned = scores(dtree_estimator, X_train, y_train, X_test, y_test)"
   ]
  },
  {
   "cell_type": "code",
   "execution_count": 155,
   "metadata": {},
   "outputs": [
    {
     "data": {
      "image/png": "[encoded data removed]",
      "text/plain": [
       "<Figure size 720x504 with 2 Axes>"
      ]
     },
     "metadata": {
      "needs_background": "light"
     },
     "output_type": "display_data"
    }
   ],
   "source": [
    "make_confusion_matrix(dtree_estimator,y_test)"
   ]
  },
  {
   "cell_type": "markdown",
   "metadata": {},
   "source": [
    "#### Insights on tuned decision tree\n",
    "- there is less overfitting on train data compared to test data\n",
    "- compared to the default decsion tree, all 3 metrics have decreased"
   ]
  },
  {
   "cell_type": "code",
   "execution_count": 49,
   "metadata": {},
   "outputs": [
    {
     "data": {
      "text/plain": [
       "RandomForestClassifier(random_state=1)"
      ]
     },
     "execution_count": 49,
     "metadata": {},
     "output_type": "execute_result"
    }
   ],
   "source": [
    "#Train the random forest classifier\n",
    "rf_estimator=RandomForestClassifier(random_state=1)\n",
    "rf_estimator.fit(X_train,y_train)"
   ]
  },
  {
   "cell_type": "code",
   "execution_count": 157,
   "metadata": {},
   "outputs": [
    {
     "name": "stdout",
     "output_type": "stream",
     "text": [
      "Accuracy on training set :  1.0\n",
      "Accuracy on test set :  0.9136394790952708 \n",
      "\n",
      "Recall on training set :  1.0\n",
      "Recall on test set :  0.5709090909090909 \n",
      "\n",
      "Precision on training set :  1.0\n",
      "Precision on test set :  0.9515151515151515\n"
     ]
    }
   ],
   "source": [
    "# accuracy, recall and precision on train and test set\n",
    "rf_estimator_score=scores(rf_estimator, X_train, y_train, X_test, y_test)"
   ]
  },
  {
   "cell_type": "code",
   "execution_count": 51,
   "metadata": {},
   "outputs": [
    {
     "data": {
      "image/png": "[encoded data removed]",
      "text/plain": [
       "<Figure size 720x504 with 2 Axes>"
      ]
     },
     "metadata": {
      "needs_background": "light"
     },
     "output_type": "display_data"
    }
   ],
   "source": [
    "make_confusion_matrix(rf_estimator,y_test)"
   ]
  },
  {
   "cell_type": "markdown",
   "metadata": {},
   "source": [
    "### Insights from random forest classifier \n",
    "- it looks like the random forest overfit the training data \n",
    "- the bagging estimator performed better on precision and recall"
   ]
  },
  {
   "cell_type": "code",
   "execution_count": 52,
   "metadata": {},
   "outputs": [
    {
     "data": {
      "text/plain": [
       "RandomForestClassifier(max_features=0.6000000000000001,\n",
       "                       max_samples=0.6000000000000001, min_samples_leaf=5,\n",
       "                       n_estimators=250, random_state=1)"
      ]
     },
     "execution_count": 52,
     "metadata": {},
     "output_type": "execute_result"
    }
   ],
   "source": [
    "# Tuning the random forest\n",
    "rf_estimator_tuned = RandomForestClassifier(random_state=1)\n",
    "\n",
    "# Grid of parameters to choose from\n",
    "## add from article\n",
    "parameters = {\"n_estimators\": [150,200,250],\n",
    "    \"min_samples_leaf\": np.arange(5, 10),\n",
    "    \"max_features\": np.arange(0.2, 0.7, 0.1),\n",
    "    \"max_samples\": np.arange(0.3, 0.7, 0.1),\n",
    "             }\n",
    "\n",
    "# Type of scoring used to compare parameter combinations\n",
    "acc_scorer = metrics.make_scorer(metrics.recall_score)\n",
    "\n",
    "# Run the grid search\n",
    "grid_obj = GridSearchCV(rf_estimator_tuned, parameters, scoring=acc_scorer,cv=5)\n",
    "grid_obj = grid_obj.fit(X_train, y_train)\n",
    "\n",
    "# Set the clf to the best combination of parameters\n",
    "rf_estimator_tuned = grid_obj.best_estimator_\n",
    "\n",
    "# Fit the best algorithm to the data.\n",
    "rf_estimator_tuned.fit(X_train, y_train)"
   ]
  },
  {
   "cell_type": "code",
   "execution_count": 53,
   "metadata": {},
   "outputs": [
    {
     "name": "stdout",
     "output_type": "stream",
     "text": [
      "Accuracy on training set :  0.9174500587544065\n",
      "Accuracy on test set :  0.8670322138450994 \n",
      "\n",
      "Recall on training set :  0.5996884735202492\n",
      "Recall on test set :  0.39636363636363636 \n",
      "\n",
      "Precision on training set :  0.941320293398533\n",
      "Precision on test set :  0.7956204379562044\n"
     ]
    }
   ],
   "source": [
    "#Using above defined function to get accuracy, recall and precision on train and test set\n",
    "rf_estimator_tuned_score=scores(rf_estimator_tuned, X_train, y_train, X_test, y_test)"
   ]
  },
  {
   "cell_type": "code",
   "execution_count": 54,
   "metadata": {},
   "outputs": [
    {
     "data": {
      "image/png": "[encoded data removed]",
      "text/plain": [
       "<Figure size 720x504 with 2 Axes>"
      ]
     },
     "metadata": {
      "needs_background": "light"
     },
     "output_type": "display_data"
    }
   ],
   "source": [
    "make_confusion_matrix(rf_estimator_tuned,y_test)"
   ]
  },
  {
   "cell_type": "markdown",
   "metadata": {},
   "source": [
    "### Insights on tuned random forest\n",
    "- overfitting has decreasedon train data\n",
    "- recall has drastically decreased\n",
    "- precision has decreased as well"
   ]
  },
  {
   "cell_type": "markdown",
   "metadata": {},
   "source": [
    "### Using class weights on bagging "
   ]
  },
  {
   "cell_type": "code",
   "execution_count": 55,
   "metadata": {},
   "outputs": [
    {
     "data": {
      "text/plain": [
       "RandomForestClassifier(class_weight={0: 0.3, 1: 0.7},\n",
       "                       max_features=0.6000000000000001,\n",
       "                       max_samples=0.6000000000000001, min_samples_leaf=9,\n",
       "                       n_estimators=150, random_state=1)"
      ]
     },
     "execution_count": 55,
     "metadata": {},
     "output_type": "execute_result"
    }
   ],
   "source": [
    "# Choose the type of classifier. \n",
    "rf_estimator_weighted = RandomForestClassifier(random_state=1)\n",
    "\n",
    "# Grid of parameters to choose from\n",
    "## add from article\n",
    "parameters = {\n",
    "    \"class_weight\": [{0: 0.3, 1: 0.7}],\n",
    "    \"n_estimators\": [100,150,200,250],\n",
    "    \"min_samples_leaf\": np.arange(5, 10),\n",
    "    \"max_features\": np.arange(0.2, 0.7, 0.1),\n",
    "    \"max_samples\": np.arange(0.3, 0.7, 0.1),\n",
    "}\n",
    "\n",
    "# Type of scoring used to compare parameter combinations\n",
    "acc_scorer = metrics.make_scorer(metrics.recall_score)\n",
    "\n",
    "# Run the grid search\n",
    "grid_obj = GridSearchCV(rf_estimator_weighted, parameters, scoring=acc_scorer,cv=5)\n",
    "grid_obj = grid_obj.fit(X_train, y_train)\n",
    "\n",
    "# Set the clf to the best combination of parameters\n",
    "rf_estimator_weighted = grid_obj.best_estimator_\n",
    "\n",
    "# Fit the best algorithm to the data.\n",
    "rf_estimator_weighted.fit(X_train, y_train)"
   ]
  },
  {
   "cell_type": "code",
   "execution_count": 56,
   "metadata": {},
   "outputs": [
    {
     "name": "stdout",
     "output_type": "stream",
     "text": [
      "Accuracy on training set :  0.9021739130434783\n",
      "Accuracy on test set :  0.858122001370802 \n",
      "\n",
      "Recall on training set :  0.719626168224299\n",
      "Recall on test set :  0.5490909090909091 \n",
      "\n",
      "Precision on training set :  0.751219512195122\n",
      "Precision on test set :  0.6452991452991453\n"
     ]
    }
   ],
   "source": [
    "#Using above defined function to get accuracy, recall and precision on train and test set\n",
    "rf_estimator_weighted_score=scores(rf_estimator_weighted, X_train, y_train, X_test, y_test)"
   ]
  },
  {
   "cell_type": "code",
   "execution_count": 57,
   "metadata": {},
   "outputs": [
    {
     "data": {
      "image/png": "[encoded data removed]",
      "text/plain": [
       "<Figure size 720x504 with 2 Axes>"
      ]
     },
     "metadata": {
      "needs_background": "light"
     },
     "output_type": "display_data"
    }
   ],
   "source": [
    "make_confusion_matrix(rf_estimator_weighted,y_test)"
   ]
  },
  {
   "cell_type": "markdown",
   "metadata": {},
   "source": [
    "### Insights on class weights:\n",
    "- The overfitting on the train data has decreased\n",
    "- However, overall accuracy, precision, and recall have all decreased "
   ]
  },
  {
   "cell_type": "code",
   "execution_count": 58,
   "metadata": {},
   "outputs": [
    {
     "data": {
      "image/png": "[encoded data removed]",
      "text/plain": [
       "<Figure size 864x864 with 1 Axes>"
      ]
     },
     "metadata": {
      "needs_background": "light"
     },
     "output_type": "display_data"
    }
   ],
   "source": [
    "## Looking at feature importance\n",
    "\n",
    "importances = rf_estimator_weighted.feature_importances_\n",
    "indices = np.argsort(importances)\n",
    "feature_names = list(X.columns)\n",
    "\n",
    "plt.figure(figsize=(12,12))\n",
    "plt.title('Feature Importances')\n",
    "plt.barh(range(len(indices)), importances[indices], color='violet', align='center')\n",
    "plt.yticks(range(len(indices)), [feature_names[i] for i in indices])\n",
    "plt.xlabel('Relative Importance')\n",
    "plt.show()"
   ]
  },
  {
   "cell_type": "markdown",
   "metadata": {},
   "source": [
    "#### Insights on feature importance \n",
    "\n",
    "It seems that passport, age, and duration of pitch are the most important factors on whether the package was selected or not"
   ]
  },
  {
   "cell_type": "code",
   "execution_count": 120,
   "metadata": {},
   "outputs": [],
   "source": [
    "# defining list of models\n",
    "models = [bagging_estimator,bagging_estimator_tuned,rf_estimator,rf_estimator_tuned,\n",
    "          rf_estimator_weighted]\n",
    "\n",
    "# defining empty lists to add train and test results\n",
    "acc_train = []\n",
    "acc_test = []\n",
    "recall_train = []\n",
    "recall_test = []\n",
    "precision_train = []\n",
    "precision_test = []\n",
    "\n",
    "# looping through all the models to get the accuracy, precall and precision scores\n",
    "for model in models:\n",
    "    j = scores(model,X_train, y_train, X_test, y_test, False)\n",
    "    acc_train.append(np.round(j[0],2))\n",
    "    acc_test.append(np.round(j[1],2))\n",
    "    recall_train.append(np.round(j[2],2))\n",
    "    recall_test.append(np.round(j[3],2))\n",
    "    precision_train.append(np.round(j[4],2))\n",
    "    precision_test.append(np.round(j[5],2))"
   ]
  },
  {
   "cell_type": "code",
   "execution_count": 121,
   "metadata": {},
   "outputs": [
    {
     "data": {
      "text/html": [
       "<div>\n",
       "<style scoped>\n",
       "    .dataframe tbody tr th:only-of-type {\n",
       "        vertical-align: middle;\n",
       "    }\n",
       "\n",
       "    .dataframe tbody tr th {\n",
       "        vertical-align: top;\n",
       "    }\n",
       "\n",
       "    .dataframe thead th {\n",
       "        text-align: right;\n",
       "    }\n",
       "</style>\n",
       "<table border=\"1\" class=\"dataframe\">\n",
       "  <thead>\n",
       "    <tr style=\"text-align: right;\">\n",
       "      <th></th>\n",
       "      <th>Model</th>\n",
       "      <th>Train_Accuracy</th>\n",
       "      <th>Test_Accuracy</th>\n",
       "      <th>Train_Recall</th>\n",
       "      <th>Test_Recall</th>\n",
       "      <th>Train_Precision</th>\n",
       "      <th>Test_Precision</th>\n",
       "    </tr>\n",
       "  </thead>\n",
       "  <tbody>\n",
       "    <tr>\n",
       "      <th>0</th>\n",
       "      <td>Default Bagging classifier</td>\n",
       "      <td>0.99</td>\n",
       "      <td>0.91</td>\n",
       "      <td>0.97</td>\n",
       "      <td>0.60</td>\n",
       "      <td>1.00</td>\n",
       "      <td>0.85</td>\n",
       "    </tr>\n",
       "    <tr>\n",
       "      <th>1</th>\n",
       "      <td>Tuned Bagging Classifier</td>\n",
       "      <td>1.00</td>\n",
       "      <td>0.92</td>\n",
       "      <td>1.00</td>\n",
       "      <td>0.62</td>\n",
       "      <td>1.00</td>\n",
       "      <td>0.92</td>\n",
       "    </tr>\n",
       "    <tr>\n",
       "      <th>2</th>\n",
       "      <td>Default Random Forest</td>\n",
       "      <td>1.00</td>\n",
       "      <td>0.91</td>\n",
       "      <td>1.00</td>\n",
       "      <td>0.57</td>\n",
       "      <td>1.00</td>\n",
       "      <td>0.95</td>\n",
       "    </tr>\n",
       "    <tr>\n",
       "      <th>3</th>\n",
       "      <td>Tuned Random Forest Classifier</td>\n",
       "      <td>0.92</td>\n",
       "      <td>0.87</td>\n",
       "      <td>0.60</td>\n",
       "      <td>0.40</td>\n",
       "      <td>0.94</td>\n",
       "      <td>0.80</td>\n",
       "    </tr>\n",
       "    <tr>\n",
       "      <th>4</th>\n",
       "      <td>Random Forest with class weights</td>\n",
       "      <td>0.90</td>\n",
       "      <td>0.86</td>\n",
       "      <td>0.72</td>\n",
       "      <td>0.55</td>\n",
       "      <td>0.75</td>\n",
       "      <td>0.65</td>\n",
       "    </tr>\n",
       "  </tbody>\n",
       "</table>\n",
       "</div>"
      ],
      "text/plain": [
       "                              Model  Train_Accuracy  Test_Accuracy  \\\n",
       "0       Default Bagging classifier             0.99           0.91   \n",
       "1          Tuned Bagging Classifier            1.00           0.92   \n",
       "2             Default Random Forest            1.00           0.91   \n",
       "3    Tuned Random Forest Classifier            0.92           0.87   \n",
       "4  Random Forest with class weights            0.90           0.86   \n",
       "\n",
       "   Train_Recall  Test_Recall  Train_Precision  Test_Precision  \n",
       "0          0.97         0.60             1.00            0.85  \n",
       "1          1.00         0.62             1.00            0.92  \n",
       "2          1.00         0.57             1.00            0.95  \n",
       "3          0.60         0.40             0.94            0.80  \n",
       "4          0.72         0.55             0.75            0.65  "
      ]
     },
     "execution_count": 121,
     "metadata": {},
     "output_type": "execute_result"
    }
   ],
   "source": [
    "comparison_frame = pd.DataFrame({'Model':['Default Bagging classifier ','Tuned Bagging Classifier',\n",
    "                                     'Default Random Forest',\n",
    "                                         'Tuned Random Forest Classifier','Random Forest with class weights'], \n",
    "                                          'Train_Accuracy': acc_train,'Test_Accuracy': acc_test,\n",
    "                                          'Train_Recall':recall_train,'Test_Recall':recall_test,\n",
    "                                          'Train_Precision':precision_train,'Test_Precision':precision_test}) \n",
    "comparison_frame"
   ]
  },
  {
   "cell_type": "markdown",
   "metadata": {},
   "source": [
    "### Insights from bagging \n",
    "- the best accuracy came from the default bagging classifier wand the default random forest\n",
    "- the best recall came from the tuned bagging classifier \n",
    "- the best precision came from the default random forest \n",
    "- the best model, which was not overfit, was the tuned random forest overall"
   ]
  },
  {
   "cell_type": "markdown",
   "metadata": {},
   "source": [
    "### Boosting "
   ]
  },
  {
   "cell_type": "code",
   "execution_count": 61,
   "metadata": {},
   "outputs": [
    {
     "data": {
      "text/plain": [
       "AdaBoostClassifier(random_state=1)"
      ]
     },
     "execution_count": 61,
     "metadata": {},
     "output_type": "execute_result"
    }
   ],
   "source": [
    "### Adaboost model \n",
    "\n",
    "abc = AdaBoostClassifier(random_state=1)\n",
    "abc.fit(X_train,y_train)"
   ]
  },
  {
   "cell_type": "code",
   "execution_count": 62,
   "metadata": {},
   "outputs": [
    {
     "name": "stdout",
     "output_type": "stream",
     "text": [
      "Accuracy on training set :  0.8460634547591069\n",
      "Accuracy on test set :  0.8327621658670322 \n",
      "\n",
      "Recall on training set :  0.3598130841121495\n",
      "Recall on test set :  0.34545454545454546 \n",
      "\n",
      "Precision on training set :  0.6715116279069767\n",
      "Precision on test set :  0.5974842767295597\n"
     ]
    }
   ],
   "source": [
    "#Using above defined function to get accuracy, recall and precision on train and test set\n",
    "abc_score=scores(abc,X_train, y_train, X_test, y_test )"
   ]
  },
  {
   "cell_type": "code",
   "execution_count": 63,
   "metadata": {},
   "outputs": [
    {
     "data": {
      "image/png": "[encoded data removed]",
      "text/plain": [
       "<Figure size 720x504 with 2 Axes>"
      ]
     },
     "metadata": {
      "needs_background": "light"
     },
     "output_type": "display_data"
    }
   ],
   "source": [
    "make_confusion_matrix(abc,y_test)"
   ]
  },
  {
   "cell_type": "markdown",
   "metadata": {},
   "source": [
    "#### Insights from Adaboost\n",
    "- recall and precision are very poor\n",
    "- accuracy is ok "
   ]
  },
  {
   "cell_type": "code",
   "execution_count": 64,
   "metadata": {},
   "outputs": [
    {
     "data": {
      "text/plain": [
       "GradientBoostingClassifier(random_state=1)"
      ]
     },
     "execution_count": 64,
     "metadata": {},
     "output_type": "execute_result"
    }
   ],
   "source": [
    "### Gradient Boost \n",
    "\n",
    "gbc = GradientBoostingClassifier(random_state=1)\n",
    "gbc.fit(X_train,y_train)"
   ]
  },
  {
   "cell_type": "code",
   "execution_count": 65,
   "metadata": {},
   "outputs": [
    {
     "name": "stdout",
     "output_type": "stream",
     "text": [
      "Accuracy on training set :  0.8851351351351351\n",
      "Accuracy on test set :  0.8670322138450994 \n",
      "\n",
      "Recall on training set :  0.48286604361370716\n",
      "Recall on test set :  0.4218181818181818 \n",
      "\n",
      "Precision on training set :  0.8401084010840109\n",
      "Precision on test set :  0.7682119205298014\n"
     ]
    }
   ],
   "source": [
    "#Using above defined function to get accuracy, recall and precision on train and test set\n",
    "gbc_score=scores(gbc,X_train, y_train, X_test, y_test)"
   ]
  },
  {
   "cell_type": "code",
   "execution_count": 66,
   "metadata": {},
   "outputs": [
    {
     "data": {
      "image/png": "[encoded data removed]",
      "text/plain": [
       "<Figure size 720x504 with 2 Axes>"
      ]
     },
     "metadata": {
      "needs_background": "light"
     },
     "output_type": "display_data"
    }
   ],
   "source": [
    "make_confusion_matrix(gbc,y_test)"
   ]
  },
  {
   "cell_type": "markdown",
   "metadata": {},
   "source": [
    "#### Insights from gradient boost\n",
    "- all 3 metrics have improved "
   ]
  },
  {
   "cell_type": "code",
   "execution_count": 67,
   "metadata": {},
   "outputs": [
    {
     "name": "stdout",
     "output_type": "stream",
     "text": [
      "[15:27:36] WARNING: /opt/concourse/worker/volumes/live/7a2b9f41-3287-451b-6691-43e9a6c0910f/volume/xgboost-split_1619728204606/work/src/learner.cc:1061: Starting in XGBoost 1.3.0, the default evaluation metric used with the objective 'binary:logistic' was changed from 'error' to 'logloss'. Explicitly set eval_metric if you'd like to restore the old behavior.\n"
     ]
    },
    {
     "data": {
      "text/plain": [
       "XGBClassifier(base_score=0.5, booster='gbtree', colsample_bylevel=1,\n",
       "              colsample_bynode=1, colsample_bytree=1, gamma=0, gpu_id=-1,\n",
       "              importance_type='gain', interaction_constraints='',\n",
       "              learning_rate=0.300000012, max_delta_step=0, max_depth=6,\n",
       "              min_child_weight=1, missing=nan, monotone_constraints='()',\n",
       "              n_estimators=100, n_jobs=8, num_parallel_tree=1, random_state=1,\n",
       "              reg_alpha=0, reg_lambda=1, scale_pos_weight=1, subsample=1,\n",
       "              tree_method='exact', validate_parameters=1, verbosity=None)"
      ]
     },
     "execution_count": 67,
     "metadata": {},
     "output_type": "execute_result"
    }
   ],
   "source": [
    "##XG Boost \n",
    "\n",
    "xgb = XGBClassifier(random_state=1)\n",
    "xgb.fit(X_train,y_train)"
   ]
  },
  {
   "cell_type": "code",
   "execution_count": 68,
   "metadata": {},
   "outputs": [
    {
     "name": "stdout",
     "output_type": "stream",
     "text": [
      "Accuracy on training set :  1.0\n",
      "Accuracy on test set :  0.9252912954078135 \n",
      "\n",
      "Recall on training set :  1.0\n",
      "Recall on test set :  0.6763636363636364 \n",
      "\n",
      "Precision on training set :  1.0\n",
      "Precision on test set :  0.9029126213592233\n"
     ]
    }
   ],
   "source": [
    "#Using above defined function to get accuracy, recall and precision on train and test set\n",
    "xgb_score=scores(xgb,X_train, y_train, X_test, y_test )"
   ]
  },
  {
   "cell_type": "code",
   "execution_count": 69,
   "metadata": {},
   "outputs": [
    {
     "data": {
      "image/png": "[encoded data removed]",
      "text/plain": [
       "<Figure size 720x504 with 2 Axes>"
      ]
     },
     "metadata": {
      "needs_background": "light"
     },
     "output_type": "display_data"
    }
   ],
   "source": [
    "make_confusion_matrix(xgb,y_test)"
   ]
  },
  {
   "cell_type": "markdown",
   "metadata": {},
   "source": [
    "### Insights from xgboost\n",
    "- we have an overfit on the all 3 metrics on the training data \n"
   ]
  },
  {
   "cell_type": "code",
   "execution_count": 70,
   "metadata": {},
   "outputs": [
    {
     "data": {
      "text/plain": [
       "AdaBoostClassifier(base_estimator=DecisionTreeClassifier(max_depth=3),\n",
       "                   n_estimators=80, random_state=1)"
      ]
     },
     "execution_count": 70,
     "metadata": {},
     "output_type": "execute_result"
    }
   ],
   "source": [
    "### Hyperparameter tuning on adaboost\n",
    "\n",
    "# Choose the type of classifier. \n",
    "abc_tuned = AdaBoostClassifier(random_state=1)\n",
    "\n",
    "# Grid of parameters to choose from\n",
    "## add from article\n",
    "parameters = {\n",
    "    #Let's try different max_depth for base_estimator\n",
    "    \"base_estimator\":[DecisionTreeClassifier(max_depth=1),DecisionTreeClassifier(max_depth=2),DecisionTreeClassifier(max_depth=3)],\n",
    "    \"n_estimators\": np.arange(10,110,10),\n",
    "    \"learning_rate\":np.arange(0.1,2,0.1)\n",
    "}\n",
    "\n",
    "# Type of scoring used to compare parameter combinations\n",
    "acc_scorer = metrics.make_scorer(metrics.recall_score)\n",
    "\n",
    "# Run the grid search\n",
    "grid_obj = GridSearchCV(abc_tuned, parameters, scoring=acc_scorer,cv=5)\n",
    "grid_obj = grid_obj.fit(X_train, y_train)\n",
    "\n",
    "# Set the clf to the best combination of parameters\n",
    "abc_tuned = grid_obj.best_estimator_\n",
    "\n",
    "# Fit the best algorithm to the data.\n",
    "abc_tuned.fit(X_train, y_train)"
   ]
  },
  {
   "cell_type": "code",
   "execution_count": 71,
   "metadata": {},
   "outputs": [
    {
     "name": "stdout",
     "output_type": "stream",
     "text": [
      "Accuracy on training set :  0.9791421856639247\n",
      "Accuracy on test set :  0.8786840301576422 \n",
      "\n",
      "Recall on training set :  0.9205607476635514\n",
      "Recall on test set :  0.5818181818181818 \n",
      "\n",
      "Precision on training set :  0.967266775777414\n",
      "Precision on test set :  0.7207207207207207\n"
     ]
    }
   ],
   "source": [
    "#Using above defined function to get accuracy, recall and precision on train and test set\n",
    "abc_tuned_score=scores(abc_tuned,X_train, y_train, X_test, y_test )"
   ]
  },
  {
   "cell_type": "code",
   "execution_count": 72,
   "metadata": {},
   "outputs": [
    {
     "data": {
      "text/plain": [
       "[0.8460634547591069,\n",
       " 0.8327621658670322,\n",
       " 0.3598130841121495,\n",
       " 0.34545454545454546,\n",
       " 0.6715116279069767,\n",
       " 0.5974842767295597]"
      ]
     },
     "execution_count": 72,
     "metadata": {},
     "output_type": "execute_result"
    }
   ],
   "source": [
    "abc_score"
   ]
  },
  {
   "cell_type": "code",
   "execution_count": 73,
   "metadata": {},
   "outputs": [
    {
     "data": {
      "image/png": "[encoded data removed]",
      "text/plain": [
       "<Figure size 720x504 with 2 Axes>"
      ]
     },
     "metadata": {
      "needs_background": "light"
     },
     "output_type": "display_data"
    }
   ],
   "source": [
    "make_confusion_matrix(abc_tuned,y_test)"
   ]
  },
  {
   "cell_type": "markdown",
   "metadata": {},
   "source": [
    "#### Insights on tuned adaboost\n",
    "- accuracy, recall, and precision have all increased when compared to default adaboost"
   ]
  },
  {
   "cell_type": "code",
   "execution_count": 74,
   "metadata": {},
   "outputs": [
    {
     "data": {
      "image/png": "[encoded data removed]",
      "text/plain": [
       "<Figure size 864x864 with 1 Axes>"
      ]
     },
     "metadata": {
      "needs_background": "light"
     },
     "output_type": "display_data"
    }
   ],
   "source": [
    "importances = abc_tuned.feature_importances_\n",
    "indices = np.argsort(importances)\n",
    "feature_names = list(X.columns)\n",
    "\n",
    "plt.figure(figsize=(12,12))\n",
    "plt.title('Feature Importances')\n",
    "plt.barh(range(len(indices)), importances[indices], color='violet', align='center')\n",
    "plt.yticks(range(len(indices)), [feature_names[i] for i in indices])\n",
    "plt.xlabel('Relative Importance')\n",
    "plt.show()"
   ]
  },
  {
   "cell_type": "markdown",
   "metadata": {},
   "source": [
    "#### insights on tuned adaboost feature importances\n",
    "- monthly income has now become the most important feature \n",
    "- duration of pitch is the second most important feature \n",
    "- age is the thrid most important feauture "
   ]
  },
  {
   "cell_type": "code",
   "execution_count": 75,
   "metadata": {},
   "outputs": [
    {
     "data": {
      "text/plain": [
       "GradientBoostingClassifier(init=AdaBoostClassifier(random_state=1),\n",
       "                           random_state=1)"
      ]
     },
     "execution_count": 75,
     "metadata": {},
     "output_type": "execute_result"
    }
   ],
   "source": [
    "### Gradient boosting using adaboost \n",
    "\n",
    "gbc_init = GradientBoostingClassifier(init=AdaBoostClassifier(random_state=1),random_state=1)\n",
    "gbc_init.fit(X_train,y_train)"
   ]
  },
  {
   "cell_type": "code",
   "execution_count": 76,
   "metadata": {},
   "outputs": [
    {
     "name": "stdout",
     "output_type": "stream",
     "text": [
      "Accuracy on training set :  0.8842538190364277\n",
      "Accuracy on test set :  0.8684030157642221 \n",
      "\n",
      "Recall on training set :  0.470404984423676\n",
      "Recall on test set :  0.4218181818181818 \n",
      "\n",
      "Precision on training set :  0.848314606741573\n",
      "Precision on test set :  0.7785234899328859\n"
     ]
    }
   ],
   "source": [
    "#Using above defined function to get accuracy, recall and precision on train and test set\n",
    "gbc_init_score=scores(gbc_init,X_train, y_train, X_test, y_test )"
   ]
  },
  {
   "cell_type": "code",
   "execution_count": 77,
   "metadata": {},
   "outputs": [
    {
     "data": {
      "text/plain": [
       "[0.8851351351351351,\n",
       " 0.8670322138450994,\n",
       " 0.48286604361370716,\n",
       " 0.4218181818181818,\n",
       " 0.8401084010840109,\n",
       " 0.7682119205298014]"
      ]
     },
     "execution_count": 77,
     "metadata": {},
     "output_type": "execute_result"
    }
   ],
   "source": [
    "gbc_score"
   ]
  },
  {
   "cell_type": "code",
   "execution_count": 78,
   "metadata": {},
   "outputs": [
    {
     "data": {
      "text/plain": [
       "GradientBoostingClassifier(init=AdaBoostClassifier(random_state=1),\n",
       "                           max_features=0.9, n_estimators=250, random_state=1,\n",
       "                           subsample=0.8)"
      ]
     },
     "execution_count": 78,
     "metadata": {},
     "output_type": "execute_result"
    }
   ],
   "source": [
    "### there was a slight increase, we can try AdaBoostClassifier() to tune the gradient boosting model\n",
    "\n",
    "# Choose the type of classifier. \n",
    "gbc_tuned = GradientBoostingClassifier(init=AdaBoostClassifier(random_state=1),random_state=1)\n",
    "\n",
    "# Grid of parameters to choose from\n",
    "## add from article\n",
    "parameters = {\n",
    "    \"n_estimators\": [100,150,200,250],\n",
    "    \"subsample\":[0.8,0.9,1],\n",
    "    \"max_features\":[0.7,0.8,0.9,1]\n",
    "}\n",
    "\n",
    "# Type of scoring used to compare parameter combinations\n",
    "acc_scorer = metrics.make_scorer(metrics.recall_score)\n",
    "\n",
    "# Run the grid search\n",
    "grid_obj = GridSearchCV(gbc_tuned, parameters, scoring=acc_scorer,cv=5)\n",
    "grid_obj = grid_obj.fit(X_train, y_train)\n",
    "\n",
    "# Set the clf to the best combination of parameters\n",
    "gbc_tuned = grid_obj.best_estimator_\n",
    "\n",
    "# Fit the best algorithm to the data.\n",
    "gbc_tuned.fit(X_train, y_train)"
   ]
  },
  {
   "cell_type": "code",
   "execution_count": 79,
   "metadata": {},
   "outputs": [
    {
     "name": "stdout",
     "output_type": "stream",
     "text": [
      "Accuracy on training set :  0.9259694477085781\n",
      "Accuracy on test set :  0.8834818368745716 \n",
      "\n",
      "Recall on training set :  0.661993769470405\n",
      "Recall on test set :  0.5236363636363637 \n",
      "\n",
      "Precision on training set :  0.9239130434782609\n",
      "Precision on test set :  0.7868852459016393\n"
     ]
    }
   ],
   "source": [
    "#Using above defined function to get accuracy, recall and precision on train and test set\n",
    "gbc_tuned_score=scores(gbc_tuned, X_train, y_train, X_test, y_test )"
   ]
  },
  {
   "cell_type": "code",
   "execution_count": 158,
   "metadata": {},
   "outputs": [
    {
     "data": {
      "text/plain": [
       "[0.8851351351351351,\n",
       " 0.8670322138450994,\n",
       " 0.48286604361370716,\n",
       " 0.4218181818181818,\n",
       " 0.8401084010840109,\n",
       " 0.7682119205298014]"
      ]
     },
     "execution_count": 158,
     "metadata": {},
     "output_type": "execute_result"
    }
   ],
   "source": [
    "###default gradient boost metrics\n",
    "\n",
    "gbc_score "
   ]
  },
  {
   "cell_type": "code",
   "execution_count": 81,
   "metadata": {},
   "outputs": [
    {
     "data": {
      "image/png": "[encoded data removed]",
      "text/plain": [
       "<Figure size 720x504 with 2 Axes>"
      ]
     },
     "metadata": {
      "needs_background": "light"
     },
     "output_type": "display_data"
    }
   ],
   "source": [
    "make_confusion_matrix(gbc_tuned,y_test)"
   ]
  },
  {
   "cell_type": "markdown",
   "metadata": {},
   "source": [
    "#### Insights from Gradient Boost tuning \n",
    "- all 3 metrics have improved from the default gradient boosting \n",
    "- all 3 metrics have improved from the second tuning with adaboost and hyperparameters"
   ]
  },
  {
   "cell_type": "code",
   "execution_count": 82,
   "metadata": {},
   "outputs": [
    {
     "data": {
      "image/png": "[encoded data removed]",
      "text/plain": [
       "<Figure size 864x864 with 1 Axes>"
      ]
     },
     "metadata": {
      "needs_background": "light"
     },
     "output_type": "display_data"
    }
   ],
   "source": [
    "importances = gbc_tuned.feature_importances_\n",
    "indices = np.argsort(importances)\n",
    "feature_names = list(X.columns)\n",
    "\n",
    "plt.figure(figsize=(12,12))\n",
    "plt.title('Feature Importances')\n",
    "plt.barh(range(len(indices)), importances[indices], color='violet', align='center')\n",
    "plt.yticks(range(len(indices)), [feature_names[i] for i in indices])\n",
    "plt.xlabel('Relative Importance')\n",
    "plt.show()"
   ]
  },
  {
   "cell_type": "markdown",
   "metadata": {},
   "source": [
    "#### Insights from hyperparameter tuning using adaboost on gradient boosting on feature importances \n",
    "- monthly income is the most important feauture \n",
    "- age is the second most important feature \n",
    "- passport is the 3rd most importnsnt feature"
   ]
  },
  {
   "cell_type": "code",
   "execution_count": 84,
   "metadata": {},
   "outputs": [
    {
     "data": {
      "text/plain": [
       "XGBClassifier(base_score=0.5, booster='gbtree', colsample_bylevel=1,\n",
       "              colsample_bynode=1, colsample_bytree=1, eval_metric='logloss',\n",
       "              gamma=0, gpu_id=-1, importance_type='gain',\n",
       "              interaction_constraints='', learning_rate=0.2, max_delta_step=0,\n",
       "              max_depth=6, min_child_weight=1, missing=nan,\n",
       "              monotone_constraints='()', n_estimators=50, n_jobs=8,\n",
       "              num_parallel_tree=1, random_state=1, reg_alpha=0, reg_lambda=1,\n",
       "              scale_pos_weight=5, subsample=0.9, tree_method='exact',\n",
       "              validate_parameters=1, verbosity=None)"
      ]
     },
     "execution_count": 84,
     "metadata": {},
     "output_type": "execute_result"
    }
   ],
   "source": [
    "# Choose the type of classifier. \n",
    "xgb_tuned = XGBClassifier(random_state=1, eval_metric='logloss')\n",
    "\n",
    "# Grid of parameters to choose from\n",
    "parameters = {\n",
    "    \"n_estimators\": [10,30,50],\n",
    "    \"scale_pos_weight\":[1,2,5],\n",
    "    \"subsample\":[0.7,0.9,1],\n",
    "    \"learning_rate\":[0.05, 0.1,0.2],\n",
    "    \"colsample_bytree\":[0.7,0.9,1],\n",
    "    \"colsample_bylevel\":[0.5,0.7,1]\n",
    "}\n",
    "\n",
    "# Type of scoring used to compare parameter combinations\n",
    "scorer = metrics.make_scorer(metrics.f1_score)\n",
    "\n",
    "# Run the grid search\n",
    "grid_obj = GridSearchCV(xgb_tuned, parameters,scoring=scorer,cv=5)\n",
    "grid_obj = grid_obj.fit(X_train, y_train)\n",
    "\n",
    "# Set the clf to the best combination of parameters\n",
    "xgb_tuned = grid_obj.best_estimator_\n",
    "\n",
    "# Fit the best algorithm to the data.\n",
    "xgb_tuned.fit(X_train, y_train)"
   ]
  },
  {
   "cell_type": "code",
   "execution_count": 85,
   "metadata": {
    "scrolled": false
   },
   "outputs": [
    {
     "name": "stdout",
     "output_type": "stream",
     "text": [
      "Accuracy on training set :  0.9791421856639247\n",
      "Accuracy on test set :  0.8923920493488691 \n",
      "\n",
      "Recall on training set :  0.9922118380062306\n",
      "Recall on test set :  0.7527272727272727 \n",
      "\n",
      "Precision on training set :  0.9061166429587483\n",
      "Precision on test set :  0.6993243243243243\n"
     ]
    }
   ],
   "source": [
    "#Using above defined function to get accuracy, recall and precision on train and test set\n",
    "xgb_tuned_score=scores(xgb_tuned, X_train, y_train, X_test, y_test)"
   ]
  },
  {
   "cell_type": "code",
   "execution_count": 159,
   "metadata": {},
   "outputs": [
    {
     "data": {
      "text/plain": [
       "[1.0, 0.9252912954078135, 1.0, 0.6763636363636364, 1.0, 0.9029126213592233]"
      ]
     },
     "execution_count": 159,
     "metadata": {},
     "output_type": "execute_result"
    }
   ],
   "source": [
    "### default xbg \n",
    "xgb_score"
   ]
  },
  {
   "cell_type": "code",
   "execution_count": 86,
   "metadata": {},
   "outputs": [
    {
     "data": {
      "image/png": "[encoded data removed]",
      "text/plain": [
       "<Figure size 720x504 with 2 Axes>"
      ]
     },
     "metadata": {
      "needs_background": "light"
     },
     "output_type": "display_data"
    }
   ],
   "source": [
    "make_confusion_matrix(xgb_tuned,y_test)"
   ]
  },
  {
   "cell_type": "markdown",
   "metadata": {},
   "source": [
    "#### Insights on tuned XG Boost \n",
    "- the overfitting on the train data has decresaed\n",
    "- however, all of the test data metrics have decreased"
   ]
  },
  {
   "cell_type": "code",
   "execution_count": 90,
   "metadata": {},
   "outputs": [
    {
     "data": {
      "image/png": "[encoded data removed]",
      "text/plain": [
       "<Figure size 864x864 with 1 Axes>"
      ]
     },
     "metadata": {
      "needs_background": "light"
     },
     "output_type": "display_data"
    }
   ],
   "source": [
    "importances = xgb_tuned.feature_importances_\n",
    "indices = np.argsort(importances)\n",
    "feature_names = list(X.columns)\n",
    "\n",
    "plt.figure(figsize=(12,12))\n",
    "plt.title('Feature Importances')\n",
    "plt.barh(range(len(indices)), importances[indices], color='violet', align='center')\n",
    "plt.yticks(range(len(indices)), [feature_names[i] for i in indices])\n",
    "plt.xlabel('Relative Importance')\n",
    "plt.show()"
   ]
  },
  {
   "cell_type": "markdown",
   "metadata": {},
   "source": [
    "#### Insights on hyperparameters from tuned xg boost\n",
    "- the most important feature is passport\n",
    "- the next most important features are product pitched and a marreid maritial status\n"
   ]
  },
  {
   "cell_type": "code",
   "execution_count": 95,
   "metadata": {},
   "outputs": [
    {
     "data": {
      "text/plain": [
       "StackingClassifier(estimators=[('Random Forest',\n",
       "                                RandomForestClassifier(max_features=0.6000000000000001,\n",
       "                                                       max_samples=0.6000000000000001,\n",
       "                                                       min_samples_leaf=5,\n",
       "                                                       n_estimators=250,\n",
       "                                                       random_state=1)),\n",
       "                               ('Gradient Boosting',\n",
       "                                GradientBoostingClassifier(init=AdaBoostClassifier(random_state=1),\n",
       "                                                           max_features=0.9,\n",
       "                                                           n_estimators=250,\n",
       "                                                           random_state=1,\n",
       "                                                           subsample=0.8))],\n",
       "                   final_estim...\n",
       "                                                 eval_metric='logloss', gamma=0,\n",
       "                                                 gpu_id=-1,\n",
       "                                                 importance_type='gain',\n",
       "                                                 interaction_constraints='',\n",
       "                                                 learning_rate=0.2,\n",
       "                                                 max_delta_step=0, max_depth=6,\n",
       "                                                 min_child_weight=1,\n",
       "                                                 missing=nan,\n",
       "                                                 monotone_constraints='()',\n",
       "                                                 n_estimators=50, n_jobs=8,\n",
       "                                                 num_parallel_tree=1,\n",
       "                                                 random_state=1, reg_alpha=0,\n",
       "                                                 reg_lambda=1,\n",
       "                                                 scale_pos_weight=5,\n",
       "                                                 subsample=0.9,\n",
       "                                                 tree_method='exact',\n",
       "                                                 validate_parameters=1,\n",
       "                                                 verbosity=None))"
      ]
     },
     "execution_count": 95,
     "metadata": {},
     "output_type": "execute_result"
    }
   ],
   "source": [
    "### Stacking Classifier \n",
    "\n",
    "estimators = [('Random Forest',rf_estimator_tuned), ('Gradient Boosting',gbc_tuned)]\n",
    "\n",
    "final_estimator = xgb_tuned\n",
    "\n",
    "stacking_classifier= StackingClassifier(estimators=estimators,final_estimator=final_estimator)\n",
    "\n",
    "stacking_classifier.fit(X_train,y_train)"
   ]
  },
  {
   "cell_type": "code",
   "execution_count": 99,
   "metadata": {},
   "outputs": [
    {
     "name": "stdout",
     "output_type": "stream",
     "text": [
      "Accuracy on training set :  0.8901292596944771\n",
      "Accuracy on test set :  0.8122001370801919 \n",
      "\n",
      "Recall on training set :  0.9345794392523364\n",
      "Recall on test set :  0.76 \n",
      "\n",
      "Precision on training set :  0.6437768240343348\n",
      "Precision on test set :  0.5011990407673861\n"
     ]
    }
   ],
   "source": [
    "stacked_score = scores(stacking_classifier, X_train, y_train, X_test, y_test)"
   ]
  },
  {
   "cell_type": "code",
   "execution_count": 110,
   "metadata": {},
   "outputs": [
    {
     "data": {
      "image/png": "[encoded data removed]",
      "text/plain": [
       "<Figure size 720x504 with 2 Axes>"
      ]
     },
     "metadata": {
      "needs_background": "light"
     },
     "output_type": "display_data"
    }
   ],
   "source": [
    "make_confusion_matrix(stacking_classifier,y_test)"
   ]
  },
  {
   "cell_type": "markdown",
   "metadata": {},
   "source": [
    "#### Insights on stacking classifier\n",
    "- there is no overfit of the train data \n",
    "- there is slightly better recall than the tuned xg boost\n",
    "- precision and accuracy have slightly decreased from the tuned xg boost"
   ]
  },
  {
   "cell_type": "code",
   "execution_count": 112,
   "metadata": {},
   "outputs": [],
   "source": [
    "# defining list of models\n",
    "models = [abc, abc_tuned, gbc, gbc_init, gbc_tuned, xgb, xgb_tuned]\n",
    "\n",
    "# defining empty lists to add train and test results\n",
    "acc_train = []\n",
    "acc_test = []\n",
    "recall_train = []\n",
    "recall_test = []\n",
    "precision_train = []\n",
    "precision_test = []\n",
    "\n",
    "# looping through all the models to get the accuracy, precall and precision scores\n",
    "for model in models:\n",
    "    j = scores(model,X_train, y_train, X_test, y_test,False)\n",
    "    acc_train.append(np.round(j[0],2))\n",
    "    acc_test.append(np.round(j[1],2))\n",
    "    recall_train.append(np.round(j[2],2))\n",
    "    recall_test.append(np.round(j[3],2))\n",
    "    precision_train.append(np.round(j[4],2))\n",
    "    precision_test.append(np.round(j[5],2))"
   ]
  },
  {
   "cell_type": "code",
   "execution_count": 118,
   "metadata": {
    "scrolled": true
   },
   "outputs": [
    {
     "data": {
      "text/html": [
       "<div>\n",
       "<style scoped>\n",
       "    .dataframe tbody tr th:only-of-type {\n",
       "        vertical-align: middle;\n",
       "    }\n",
       "\n",
       "    .dataframe tbody tr th {\n",
       "        vertical-align: top;\n",
       "    }\n",
       "\n",
       "    .dataframe thead th {\n",
       "        text-align: right;\n",
       "    }\n",
       "</style>\n",
       "<table border=\"1\" class=\"dataframe\">\n",
       "  <thead>\n",
       "    <tr style=\"text-align: right;\">\n",
       "      <th></th>\n",
       "      <th>Model</th>\n",
       "      <th>Train_Accuracy</th>\n",
       "      <th>Test_Accuracy</th>\n",
       "      <th>Train_Recall</th>\n",
       "      <th>Test_Recall</th>\n",
       "      <th>Train_Precision</th>\n",
       "      <th>Test_Precision</th>\n",
       "    </tr>\n",
       "  </thead>\n",
       "  <tbody>\n",
       "    <tr>\n",
       "      <th>0</th>\n",
       "      <td>AdaBoost with default paramters</td>\n",
       "      <td>0.85</td>\n",
       "      <td>0.83</td>\n",
       "      <td>0.36</td>\n",
       "      <td>0.35</td>\n",
       "      <td>0.67</td>\n",
       "      <td>0.60</td>\n",
       "    </tr>\n",
       "    <tr>\n",
       "      <th>1</th>\n",
       "      <td>AdaBoost Tuned</td>\n",
       "      <td>0.98</td>\n",
       "      <td>0.88</td>\n",
       "      <td>0.92</td>\n",
       "      <td>0.58</td>\n",
       "      <td>0.97</td>\n",
       "      <td>0.72</td>\n",
       "    </tr>\n",
       "    <tr>\n",
       "      <th>2</th>\n",
       "      <td>Gradient Boosting with default parameters</td>\n",
       "      <td>0.89</td>\n",
       "      <td>0.87</td>\n",
       "      <td>0.48</td>\n",
       "      <td>0.42</td>\n",
       "      <td>0.84</td>\n",
       "      <td>0.77</td>\n",
       "    </tr>\n",
       "    <tr>\n",
       "      <th>3</th>\n",
       "      <td>Gradient Boosting with init=AdaBoost</td>\n",
       "      <td>0.88</td>\n",
       "      <td>0.87</td>\n",
       "      <td>0.47</td>\n",
       "      <td>0.42</td>\n",
       "      <td>0.85</td>\n",
       "      <td>0.78</td>\n",
       "    </tr>\n",
       "    <tr>\n",
       "      <th>4</th>\n",
       "      <td>Gradient Boosting Tuned</td>\n",
       "      <td>0.93</td>\n",
       "      <td>0.88</td>\n",
       "      <td>0.66</td>\n",
       "      <td>0.52</td>\n",
       "      <td>0.92</td>\n",
       "      <td>0.79</td>\n",
       "    </tr>\n",
       "    <tr>\n",
       "      <th>5</th>\n",
       "      <td>XGBoost with default parameters</td>\n",
       "      <td>1.00</td>\n",
       "      <td>0.93</td>\n",
       "      <td>1.00</td>\n",
       "      <td>0.68</td>\n",
       "      <td>1.00</td>\n",
       "      <td>0.90</td>\n",
       "    </tr>\n",
       "    <tr>\n",
       "      <th>6</th>\n",
       "      <td>XGBoost Tuned</td>\n",
       "      <td>0.98</td>\n",
       "      <td>0.89</td>\n",
       "      <td>0.99</td>\n",
       "      <td>0.75</td>\n",
       "      <td>0.91</td>\n",
       "      <td>0.70</td>\n",
       "    </tr>\n",
       "  </tbody>\n",
       "</table>\n",
       "</div>"
      ],
      "text/plain": [
       "                                       Model  Train_Accuracy  Test_Accuracy  \\\n",
       "0            AdaBoost with default paramters            0.85           0.83   \n",
       "1                             AdaBoost Tuned            0.98           0.88   \n",
       "2  Gradient Boosting with default parameters            0.89           0.87   \n",
       "3       Gradient Boosting with init=AdaBoost            0.88           0.87   \n",
       "4                    Gradient Boosting Tuned            0.93           0.88   \n",
       "5            XGBoost with default parameters            1.00           0.93   \n",
       "6                              XGBoost Tuned            0.98           0.89   \n",
       "\n",
       "   Train_Recall  Test_Recall  Train_Precision  Test_Precision  \n",
       "0          0.36         0.35             0.67            0.60  \n",
       "1          0.92         0.58             0.97            0.72  \n",
       "2          0.48         0.42             0.84            0.77  \n",
       "3          0.47         0.42             0.85            0.78  \n",
       "4          0.66         0.52             0.92            0.79  \n",
       "5          1.00         0.68             1.00            0.90  \n",
       "6          0.99         0.75             0.91            0.70  "
      ]
     },
     "execution_count": 118,
     "metadata": {},
     "output_type": "execute_result"
    }
   ],
   "source": [
    "comparison_frame2 = pd.DataFrame({'Model':['AdaBoost with default paramters','AdaBoost Tuned', \n",
    "                                          'Gradient Boosting with default parameters','Gradient Boosting with init=AdaBoost',\n",
    "                                          'Gradient Boosting Tuned','XGBoost with default parameters','XGBoost Tuned'], \n",
    "                                          'Train_Accuracy': acc_train,'Test_Accuracy': acc_test,\n",
    "                                          'Train_Recall':recall_train,'Test_Recall':recall_test,\n",
    "                                          'Train_Precision':precision_train,'Test_Precision':precision_test}) \n",
    "comparison_frame2"
   ]
  },
  {
   "cell_type": "markdown",
   "metadata": {},
   "source": [
    "#### Takeaways from boosting overall\n",
    "- the best model in the boosting class for accuracy is tuned XGBoost \n",
    "- the best model for recall was the tuned xgboost\n",
    "- the best model for precision is the default XG boost\n",
    "\n",
    "- overall the best model is the tuned xgboost"
   ]
  },
  {
   "cell_type": "code",
   "execution_count": 122,
   "metadata": {},
   "outputs": [
    {
     "data": {
      "text/html": [
       "<div>\n",
       "<style scoped>\n",
       "    .dataframe tbody tr th:only-of-type {\n",
       "        vertical-align: middle;\n",
       "    }\n",
       "\n",
       "    .dataframe tbody tr th {\n",
       "        vertical-align: top;\n",
       "    }\n",
       "\n",
       "    .dataframe thead th {\n",
       "        text-align: right;\n",
       "    }\n",
       "</style>\n",
       "<table border=\"1\" class=\"dataframe\">\n",
       "  <thead>\n",
       "    <tr style=\"text-align: right;\">\n",
       "      <th></th>\n",
       "      <th>Model</th>\n",
       "      <th>Train_Accuracy</th>\n",
       "      <th>Test_Accuracy</th>\n",
       "      <th>Train_Recall</th>\n",
       "      <th>Test_Recall</th>\n",
       "      <th>Train_Precision</th>\n",
       "      <th>Test_Precision</th>\n",
       "    </tr>\n",
       "  </thead>\n",
       "  <tbody>\n",
       "    <tr>\n",
       "      <th>0</th>\n",
       "      <td>Default Bagging classifier</td>\n",
       "      <td>0.99</td>\n",
       "      <td>0.91</td>\n",
       "      <td>0.97</td>\n",
       "      <td>0.60</td>\n",
       "      <td>1.00</td>\n",
       "      <td>0.85</td>\n",
       "    </tr>\n",
       "    <tr>\n",
       "      <th>1</th>\n",
       "      <td>Tuned Bagging Classifier</td>\n",
       "      <td>1.00</td>\n",
       "      <td>0.92</td>\n",
       "      <td>1.00</td>\n",
       "      <td>0.62</td>\n",
       "      <td>1.00</td>\n",
       "      <td>0.92</td>\n",
       "    </tr>\n",
       "    <tr>\n",
       "      <th>2</th>\n",
       "      <td>Default Random Forest</td>\n",
       "      <td>1.00</td>\n",
       "      <td>0.91</td>\n",
       "      <td>1.00</td>\n",
       "      <td>0.57</td>\n",
       "      <td>1.00</td>\n",
       "      <td>0.95</td>\n",
       "    </tr>\n",
       "    <tr>\n",
       "      <th>3</th>\n",
       "      <td>Tuned Random Forest Classifier</td>\n",
       "      <td>0.92</td>\n",
       "      <td>0.87</td>\n",
       "      <td>0.60</td>\n",
       "      <td>0.40</td>\n",
       "      <td>0.94</td>\n",
       "      <td>0.80</td>\n",
       "    </tr>\n",
       "    <tr>\n",
       "      <th>4</th>\n",
       "      <td>Random Forest with class weights</td>\n",
       "      <td>0.90</td>\n",
       "      <td>0.86</td>\n",
       "      <td>0.72</td>\n",
       "      <td>0.55</td>\n",
       "      <td>0.75</td>\n",
       "      <td>0.65</td>\n",
       "    </tr>\n",
       "  </tbody>\n",
       "</table>\n",
       "</div>"
      ],
      "text/plain": [
       "                              Model  Train_Accuracy  Test_Accuracy  \\\n",
       "0       Default Bagging classifier             0.99           0.91   \n",
       "1          Tuned Bagging Classifier            1.00           0.92   \n",
       "2             Default Random Forest            1.00           0.91   \n",
       "3    Tuned Random Forest Classifier            0.92           0.87   \n",
       "4  Random Forest with class weights            0.90           0.86   \n",
       "\n",
       "   Train_Recall  Test_Recall  Train_Precision  Test_Precision  \n",
       "0          0.97         0.60             1.00            0.85  \n",
       "1          1.00         0.62             1.00            0.92  \n",
       "2          1.00         0.57             1.00            0.95  \n",
       "3          0.60         0.40             0.94            0.80  \n",
       "4          0.72         0.55             0.75            0.65  "
      ]
     },
     "execution_count": 122,
     "metadata": {},
     "output_type": "execute_result"
    }
   ],
   "source": [
    "comparison_frame"
   ]
  },
  {
   "cell_type": "markdown",
   "metadata": {},
   "source": [
    "### bagging vs boosting \n",
    "- between bagging and boosting, the best model for accuracy was the tuned xg boost without overfitting the train data \n",
    "- the best model for recall was the tuned xgboost\n",
    "- the best model for precision was gradient boosting with initializer of adaboost"
   ]
  },
  {
   "cell_type": "code",
   "execution_count": 123,
   "metadata": {},
   "outputs": [
    {
     "data": {
      "image/png": "[encoded data removed]",
      "text/plain": [
       "<Figure size 864x864 with 1 Axes>"
      ]
     },
     "metadata": {
      "needs_background": "light"
     },
     "output_type": "display_data"
    }
   ],
   "source": [
    "feature_names = X_train.columns\n",
    "importances = xgb_tuned.feature_importances_\n",
    "indices = np.argsort(importances)\n",
    "\n",
    "plt.figure(figsize=(12,12))\n",
    "plt.title('Feature Importances')\n",
    "plt.barh(range(len(indices)), importances[indices], color='violet', align='center')\n",
    "plt.yticks(range(len(indices)), [feature_names[i] for i in indices])\n",
    "plt.xlabel('Relative Importance')\n",
    "plt.show()"
   ]
  },
  {
   "cell_type": "markdown",
   "metadata": {},
   "source": [
    "#### Insights on tuned hyperparameters in random forest \n",
    "\n",
    "- age is the most important feature in this model \n",
    "- duration of pitch and passport are the second most important feature "
   ]
  },
  {
   "cell_type": "markdown",
   "metadata": {},
   "source": [
    "## Conclusions\n",
    "- The person that has the highest likelihood of accepting a travel package:\n",
    "    - has a passport\n",
    "    - was pitched a lesser premium product\n",
    "    - was married \n",
    "    - lived in a city \n",
    "    - had a longer pitch duration \n",
    "    - was of a younger age\n",
    "    - had a lower monthly income\n",
    " \n",
    " \n",
    "- Of all of the important features, the ones to target the most are: people who have a passport, pitched a less premium product, and married. \n",
    " - I would recommend targeting people that were married, have a passport, and pitching a smaller product in order to maximize the acceptance of the new travel package"
   ]
  },
  {
   "cell_type": "code",
   "execution_count": null,
   "metadata": {},
   "outputs": [],
   "source": []
  }
 ],
 "metadata": {
  "kernelspec": {
   "display_name": "Python 3",
   "language": "python",
   "name": "python3"
  },
  "language_info": {
   "codemirror_mode": {
    "name": "ipython",
    "version": 3
   },
   "file_extension": ".py",
   "mimetype": "text/x-python",
   "name": "python",
   "nbconvert_exporter": "python",
   "pygments_lexer": "ipython3",
   "version": "3.8.3"
  }
 },
 "nbformat": 4,
 "nbformat_minor": 4
}
